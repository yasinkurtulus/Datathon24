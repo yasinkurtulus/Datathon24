{
 "cells": [
  {
   "cell_type": "markdown",
   "id": "ea5b6252-4b8a-4ad9-97d2-62b37800597d",
   "metadata": {},
   "source": [
    "# datathon 24 Notebook"
   ]
  },
  {
   "cell_type": "markdown",
   "id": "16c217a0-5825-484c-8c30-ad291b74eb45",
   "metadata": {},
   "source": [
    "Bu notebook datathon2024 yarışması için hazırlanmıştır.\n",
    "\n",
    "## Problem Def\n",
    "    Verilerde Girişimcilik Vakfı'nın 2014 yılından itibaren aldığı başvuruları ve Değerlendirme Puanı isimli kolonu gözlemleyebilirsiniz (train.csv). Bu dosyanın içerisinde aynı zamanda başvuran kişilerin anonim olarak paylaşılmış üniversite, aile detayları, ikamet detayları vb. bir çok bilgiyi gözlemleyebilirsiniz.\n",
    "    Bu bilgilerden yola çıkarak 11.049  kişinin değerlendirme puanını tahmin etmek (Regression Problemi)\n",
    "## Evaluation\n",
    "    Yarışmanın başarısını ölçmek için kullanılacak metrik ise RMSE olacaktır.\n",
    "## data\n",
    "    Veri içerisinde bulunan sütunlar:https : https://www.kaggle.com/competitions/datathon-2024/data\r",
    "n Olunan Üniversite\r\n",
    "id\r\n",
    "Degerlendirme Puani"
   ]
  },
  {
   "cell_type": "markdown",
   "id": "4f179b23-a026-4930-9a12-3d75f0b8b3c6",
   "metadata": {},
   "source": [
    "### EDA"
   ]
  },
  {
   "cell_type": "code",
   "execution_count": 1,
   "id": "e73d13e4-71ac-4468-ab4a-c3c5ec623a43",
   "metadata": {},
   "outputs": [],
   "source": [
    "import pandas as pd\n",
    "import numpy as np\n",
    "import matplotlib.pyplot as plt"
   ]
  },
  {
   "cell_type": "code",
   "execution_count": 2,
   "id": "b805519d-975e-4e12-8b6b-15538519218d",
   "metadata": {},
   "outputs": [
    {
     "name": "stdout",
     "output_type": "stream",
     "text": [
      "Requirement already satisfied: seaborn in c:\\users\\hp\\desktop\\datathon24\\env\\lib\\site-packages (0.13.2)\n",
      "Requirement already satisfied: numpy!=1.24.0,>=1.20 in c:\\users\\hp\\desktop\\datathon24\\env\\lib\\site-packages (from seaborn) (1.26.4)\n",
      "Requirement already satisfied: pandas>=1.2 in c:\\users\\hp\\desktop\\datathon24\\env\\lib\\site-packages (from seaborn) (2.2.2)\n",
      "Requirement already satisfied: matplotlib!=3.6.1,>=3.4 in c:\\users\\hp\\desktop\\datathon24\\env\\lib\\site-packages (from seaborn) (3.9.2)\n",
      "Requirement already satisfied: contourpy>=1.0.1 in c:\\users\\hp\\desktop\\datathon24\\env\\lib\\site-packages (from matplotlib!=3.6.1,>=3.4->seaborn) (1.2.0)\n",
      "Requirement already satisfied: cycler>=0.10 in c:\\users\\hp\\desktop\\datathon24\\env\\lib\\site-packages (from matplotlib!=3.6.1,>=3.4->seaborn) (0.11.0)\n",
      "Requirement already satisfied: fonttools>=4.22.0 in c:\\users\\hp\\desktop\\datathon24\\env\\lib\\site-packages (from matplotlib!=3.6.1,>=3.4->seaborn) (4.51.0)\n",
      "Requirement already satisfied: kiwisolver>=1.3.1 in c:\\users\\hp\\desktop\\datathon24\\env\\lib\\site-packages (from matplotlib!=3.6.1,>=3.4->seaborn) (1.4.4)\n",
      "Requirement already satisfied: packaging>=20.0 in c:\\users\\hp\\desktop\\datathon24\\env\\lib\\site-packages (from matplotlib!=3.6.1,>=3.4->seaborn) (24.1)\n",
      "Requirement already satisfied: pillow>=8 in c:\\users\\hp\\desktop\\datathon24\\env\\lib\\site-packages (from matplotlib!=3.6.1,>=3.4->seaborn) (10.4.0)\n",
      "Requirement already satisfied: pyparsing>=2.3.1 in c:\\users\\hp\\desktop\\datathon24\\env\\lib\\site-packages (from matplotlib!=3.6.1,>=3.4->seaborn) (3.1.2)\n",
      "Requirement already satisfied: python-dateutil>=2.7 in c:\\users\\hp\\desktop\\datathon24\\env\\lib\\site-packages (from matplotlib!=3.6.1,>=3.4->seaborn) (2.9.0.post0)\n",
      "Requirement already satisfied: pytz>=2020.1 in c:\\users\\hp\\desktop\\datathon24\\env\\lib\\site-packages (from pandas>=1.2->seaborn) (2024.1)\n",
      "Requirement already satisfied: tzdata>=2022.7 in c:\\users\\hp\\desktop\\datathon24\\env\\lib\\site-packages (from pandas>=1.2->seaborn) (2023.3)\n",
      "Requirement already satisfied: six>=1.5 in c:\\users\\hp\\desktop\\datathon24\\env\\lib\\site-packages (from python-dateutil>=2.7->matplotlib!=3.6.1,>=3.4->seaborn) (1.16.0)\n",
      "Note: you may need to restart the kernel to use updated packages.\n"
     ]
    }
   ],
   "source": [
    "pip install seaborn"
   ]
  },
  {
   "cell_type": "code",
   "execution_count": 3,
   "id": "24b2da3f-0eef-4c46-94d0-c28118c75e37",
   "metadata": {},
   "outputs": [],
   "source": [
    "import seaborn as sns\n",
    "sns.set_theme(style=\"darkgrid\")"
   ]
  },
  {
   "cell_type": "code",
   "execution_count": 4,
   "id": "747276fc-032f-42a0-934e-d6915aeee436",
   "metadata": {},
   "outputs": [],
   "source": [
    "test=pd.read_csv(\"data/test_x.csv\",low_memory=False)"
   ]
  },
  {
   "cell_type": "code",
   "execution_count": 5,
   "id": "1ef6f13b-952c-44c8-a7c7-93506d512b13",
   "metadata": {},
   "outputs": [
    {
     "data": {
      "text/html": [
       "<div>\n",
       "<style scoped>\n",
       "    .dataframe tbody tr th:only-of-type {\n",
       "        vertical-align: middle;\n",
       "    }\n",
       "\n",
       "    .dataframe tbody tr th {\n",
       "        vertical-align: top;\n",
       "    }\n",
       "\n",
       "    .dataframe thead th {\n",
       "        text-align: right;\n",
       "    }\n",
       "</style>\n",
       "<table border=\"1\" class=\"dataframe\">\n",
       "  <thead>\n",
       "    <tr style=\"text-align: right;\">\n",
       "      <th></th>\n",
       "      <th>Basvuru Yili</th>\n",
       "      <th>Degerlendirme Puani</th>\n",
       "      <th>Cinsiyet</th>\n",
       "      <th>Dogum Tarihi</th>\n",
       "      <th>Dogum Yeri</th>\n",
       "      <th>Ikametgah Sehri</th>\n",
       "      <th>Universite Adi</th>\n",
       "      <th>Universite Turu</th>\n",
       "      <th>Burslu ise Burs Yuzdesi</th>\n",
       "      <th>Burs Aliyor mu?</th>\n",
       "      <th>...</th>\n",
       "      <th>Spor Dalindaki Rolunuz Nedir?</th>\n",
       "      <th>Aktif olarak bir STK üyesi misiniz?</th>\n",
       "      <th>Hangi STK'nin Uyesisiniz?</th>\n",
       "      <th>Stk Projesine Katildiniz Mi?</th>\n",
       "      <th>Girisimcilikle Ilgili Deneyiminiz Var Mi?</th>\n",
       "      <th>Girisimcilikle Ilgili Deneyiminizi Aciklayabilir misiniz?</th>\n",
       "      <th>Ingilizce Biliyor musunuz?</th>\n",
       "      <th>Ingilizce Seviyeniz?</th>\n",
       "      <th>Daha Önceden Mezun Olunduysa, Mezun Olunan Üniversite</th>\n",
       "      <th>id</th>\n",
       "    </tr>\n",
       "  </thead>\n",
       "  <tbody>\n",
       "    <tr>\n",
       "      <th>0</th>\n",
       "      <td>2014</td>\n",
       "      <td>52.0</td>\n",
       "      <td>Erkek</td>\n",
       "      <td>4/6/1994</td>\n",
       "      <td>Altindag, Ankara</td>\n",
       "      <td>Ankara</td>\n",
       "      <td>İHSAN DOĞRAMACI BİLKENT</td>\n",
       "      <td>Özel</td>\n",
       "      <td>100.0</td>\n",
       "      <td>Evet</td>\n",
       "      <td>...</td>\n",
       "      <td>Diğer</td>\n",
       "      <td>Hayır</td>\n",
       "      <td>NaN</td>\n",
       "      <td>Evet</td>\n",
       "      <td>Hayır</td>\n",
       "      <td>NaN</td>\n",
       "      <td>NaN</td>\n",
       "      <td>NaN</td>\n",
       "      <td>NaN</td>\n",
       "      <td>0</td>\n",
       "    </tr>\n",
       "    <tr>\n",
       "      <th>1</th>\n",
       "      <td>2014</td>\n",
       "      <td>30.0</td>\n",
       "      <td>Erkek</td>\n",
       "      <td>6/11/1993</td>\n",
       "      <td>Üsküdar</td>\n",
       "      <td>İstanbul</td>\n",
       "      <td>İHSAN DOĞRAMACI BİLKENT</td>\n",
       "      <td>Özel</td>\n",
       "      <td>100.0</td>\n",
       "      <td>Hayır</td>\n",
       "      <td>...</td>\n",
       "      <td>0</td>\n",
       "      <td>Hayır</td>\n",
       "      <td>NaN</td>\n",
       "      <td>Evet</td>\n",
       "      <td>Evet</td>\n",
       "      <td>Bilkent Cyberparkta bir şirkette Türkiye nin i...</td>\n",
       "      <td>NaN</td>\n",
       "      <td>NaN</td>\n",
       "      <td>NaN</td>\n",
       "      <td>1</td>\n",
       "    </tr>\n",
       "    <tr>\n",
       "      <th>2</th>\n",
       "      <td>2014</td>\n",
       "      <td>18.0</td>\n",
       "      <td>Erkek</td>\n",
       "      <td>1/15/1986</td>\n",
       "      <td>Samsun</td>\n",
       "      <td>İstanbul</td>\n",
       "      <td>ULUSLARARASI KIBRIS ÜNİVERSİTESİ</td>\n",
       "      <td>Özel</td>\n",
       "      <td>100.0</td>\n",
       "      <td>Hayır</td>\n",
       "      <td>...</td>\n",
       "      <td>0</td>\n",
       "      <td>Hayır</td>\n",
       "      <td>NaN</td>\n",
       "      <td>Hayır</td>\n",
       "      <td>Hayır</td>\n",
       "      <td>NaN</td>\n",
       "      <td>NaN</td>\n",
       "      <td>NaN</td>\n",
       "      <td>NaN</td>\n",
       "      <td>2</td>\n",
       "    </tr>\n",
       "    <tr>\n",
       "      <th>3</th>\n",
       "      <td>2014</td>\n",
       "      <td>40.0</td>\n",
       "      <td>Erkek</td>\n",
       "      <td>6/4/1991</td>\n",
       "      <td>Diyarbakır</td>\n",
       "      <td>İstanbul</td>\n",
       "      <td>İSTANBUL ŞEHİR ÜNİVERSİTESİ</td>\n",
       "      <td>Özel</td>\n",
       "      <td>100.0</td>\n",
       "      <td>Evet</td>\n",
       "      <td>...</td>\n",
       "      <td>0</td>\n",
       "      <td>Hayır</td>\n",
       "      <td>NaN</td>\n",
       "      <td>Evet</td>\n",
       "      <td>Hayır</td>\n",
       "      <td>NaN</td>\n",
       "      <td>NaN</td>\n",
       "      <td>NaN</td>\n",
       "      <td>NaN</td>\n",
       "      <td>3</td>\n",
       "    </tr>\n",
       "    <tr>\n",
       "      <th>4</th>\n",
       "      <td>2014</td>\n",
       "      <td>24.0</td>\n",
       "      <td>Erkek</td>\n",
       "      <td>2 Kasim 1992</td>\n",
       "      <td>Ankara/Altındağ</td>\n",
       "      <td>Ankara</td>\n",
       "      <td>TURGUT ÖZAL ÜNİVERSİTESİ</td>\n",
       "      <td>Özel</td>\n",
       "      <td>100.0</td>\n",
       "      <td>Evet</td>\n",
       "      <td>...</td>\n",
       "      <td>0</td>\n",
       "      <td>Hayır</td>\n",
       "      <td>NaN</td>\n",
       "      <td>Hayır</td>\n",
       "      <td>Hayır</td>\n",
       "      <td>NaN</td>\n",
       "      <td>NaN</td>\n",
       "      <td>NaN</td>\n",
       "      <td>NaN</td>\n",
       "      <td>4</td>\n",
       "    </tr>\n",
       "  </tbody>\n",
       "</table>\n",
       "<p>5 rows × 44 columns</p>\n",
       "</div>"
      ],
      "text/plain": [
       "   Basvuru Yili  Degerlendirme Puani Cinsiyet  Dogum Tarihi        Dogum Yeri  \\\n",
       "0          2014                 52.0    Erkek      4/6/1994  Altindag, Ankara   \n",
       "1          2014                 30.0    Erkek     6/11/1993           Üsküdar   \n",
       "2          2014                 18.0    Erkek     1/15/1986            Samsun   \n",
       "3          2014                 40.0    Erkek      6/4/1991        Diyarbakır   \n",
       "4          2014                 24.0    Erkek  2 Kasim 1992   Ankara/Altındağ   \n",
       "\n",
       "  Ikametgah Sehri                    Universite Adi Universite Turu  \\\n",
       "0          Ankara           İHSAN DOĞRAMACI BİLKENT            Özel   \n",
       "1        İstanbul           İHSAN DOĞRAMACI BİLKENT            Özel   \n",
       "2        İstanbul  ULUSLARARASI KIBRIS ÜNİVERSİTESİ            Özel   \n",
       "3        İstanbul       İSTANBUL ŞEHİR ÜNİVERSİTESİ            Özel   \n",
       "4          Ankara          TURGUT ÖZAL ÜNİVERSİTESİ            Özel   \n",
       "\n",
       "   Burslu ise Burs Yuzdesi Burs Aliyor mu?  ... Spor Dalindaki Rolunuz Nedir?  \\\n",
       "0                    100.0            Evet  ...                         Diğer   \n",
       "1                    100.0           Hayır  ...                             0   \n",
       "2                    100.0           Hayır  ...                             0   \n",
       "3                    100.0            Evet  ...                             0   \n",
       "4                    100.0            Evet  ...                             0   \n",
       "\n",
       "  Aktif olarak bir STK üyesi misiniz? Hangi STK'nin Uyesisiniz?  \\\n",
       "0                               Hayır                       NaN   \n",
       "1                               Hayır                       NaN   \n",
       "2                               Hayır                       NaN   \n",
       "3                               Hayır                       NaN   \n",
       "4                               Hayır                       NaN   \n",
       "\n",
       "  Stk Projesine Katildiniz Mi? Girisimcilikle Ilgili Deneyiminiz Var Mi?  \\\n",
       "0                         Evet                                     Hayır   \n",
       "1                         Evet                                      Evet   \n",
       "2                        Hayır                                     Hayır   \n",
       "3                         Evet                                     Hayır   \n",
       "4                        Hayır                                     Hayır   \n",
       "\n",
       "  Girisimcilikle Ilgili Deneyiminizi Aciklayabilir misiniz?  \\\n",
       "0                                                NaN          \n",
       "1  Bilkent Cyberparkta bir şirkette Türkiye nin i...          \n",
       "2                                                NaN          \n",
       "3                                                NaN          \n",
       "4                                                NaN          \n",
       "\n",
       "  Ingilizce Biliyor musunuz? Ingilizce Seviyeniz?  \\\n",
       "0                        NaN                  NaN   \n",
       "1                        NaN                  NaN   \n",
       "2                        NaN                  NaN   \n",
       "3                        NaN                  NaN   \n",
       "4                        NaN                  NaN   \n",
       "\n",
       "  Daha Önceden Mezun Olunduysa, Mezun Olunan Üniversite id  \n",
       "0                                                NaN     0  \n",
       "1                                                NaN     1  \n",
       "2                                                NaN     2  \n",
       "3                                                NaN     3  \n",
       "4                                                NaN     4  \n",
       "\n",
       "[5 rows x 44 columns]"
      ]
     },
     "execution_count": 5,
     "metadata": {},
     "output_type": "execute_result"
    }
   ],
   "source": [
    "train=pd.read_csv(\"data/train.csv\",low_memory=False)\n",
    "train.head()"
   ]
  },
  {
   "cell_type": "code",
   "execution_count": 6,
   "id": "a48780e2-fffb-4e2c-a08f-d865879a762b",
   "metadata": {},
   "outputs": [],
   "source": [
    "train=train.drop(index=65124)"
   ]
  },
  {
   "cell_type": "code",
   "execution_count": 7,
   "id": "343e6548-f44e-4851-a171-f153121e624b",
   "metadata": {},
   "outputs": [
    {
     "name": "stdout",
     "output_type": "stream",
     "text": [
      "<class 'pandas.core.frame.DataFrame'>\n",
      "RangeIndex: 65124 entries, 0 to 65123\n",
      "Data columns (total 44 columns):\n",
      " #   Column                                                     Non-Null Count  Dtype  \n",
      "---  ------                                                     --------------  -----  \n",
      " 0   Basvuru Yili                                               65124 non-null  int64  \n",
      " 1   Degerlendirme Puani                                        65124 non-null  float64\n",
      " 2   Cinsiyet                                                   64955 non-null  object \n",
      " 3   Dogum Tarihi                                               64947 non-null  object \n",
      " 4   Dogum Yeri                                                 64333 non-null  object \n",
      " 5   Ikametgah Sehri                                            63087 non-null  object \n",
      " 6   Universite Adi                                             64992 non-null  object \n",
      " 7   Universite Turu                                            64869 non-null  object \n",
      " 8   Burslu ise Burs Yuzdesi                                    22440 non-null  float64\n",
      " 9   Burs Aliyor mu?                                            65124 non-null  object \n",
      " 10  Bölüm                                                      64893 non-null  object \n",
      " 11  Universite Kacinci Sinif                                   64750 non-null  object \n",
      " 12  Universite Not Ortalamasi                                  62371 non-null  object \n",
      " 13  Daha Once Baska Bir Universiteden Mezun Olmus              27780 non-null  object \n",
      " 14  Lise Adi                                                   64740 non-null  object \n",
      " 15  Lise Adi Diger                                             4733 non-null   object \n",
      " 16  Lise Sehir                                                 64070 non-null  object \n",
      " 17  Lise Turu                                                  64277 non-null  object \n",
      " 18  Lise Bolumu                                                64115 non-null  object \n",
      " 19  Lise Bolum Diger                                           1526 non-null   object \n",
      " 20  Lise Mezuniyet Notu                                        59207 non-null  object \n",
      " 21  Baska Bir Kurumdan Burs Aliyor mu?                         64893 non-null  object \n",
      " 22  Burs Aldigi Baska Kurum                                    21147 non-null  object \n",
      " 23  Baska Kurumdan Aldigi Burs Miktari                         20962 non-null  object \n",
      " 24  Anne Egitim Durumu                                         64718 non-null  object \n",
      " 25  Anne Calisma Durumu                                        53228 non-null  object \n",
      " 26  Anne Sektor                                                30587 non-null  object \n",
      " 27  Baba Egitim Durumu                                         64117 non-null  object \n",
      " 28  Baba Calisma Durumu                                        52506 non-null  object \n",
      " 29  Baba Sektor                                                44746 non-null  object \n",
      " 30  Kardes Sayisi                                              63992 non-null  object \n",
      " 31  Girisimcilik Kulupleri Tarzi Bir Kulube Uye misiniz?       63295 non-null  object \n",
      " 32  Uye Oldugunuz Kulubun Ismi                                 16434 non-null  object \n",
      " 33  Profesyonel Bir Spor Daliyla Mesgul musunuz?               64009 non-null  object \n",
      " 34  Spor Dalindaki Rolunuz Nedir?                              32849 non-null  object \n",
      " 35  Aktif olarak bir STK üyesi misiniz?                        52282 non-null  object \n",
      " 36  Hangi STK'nin Uyesisiniz?                                  15606 non-null  object \n",
      " 37  Stk Projesine Katildiniz Mi?                               36817 non-null  object \n",
      " 38  Girisimcilikle Ilgili Deneyiminiz Var Mi?                  52284 non-null  object \n",
      " 39  Girisimcilikle Ilgili Deneyiminizi Aciklayabilir misiniz?  14598 non-null  object \n",
      " 40  Ingilizce Biliyor musunuz?                                 58670 non-null  object \n",
      " 41  Ingilizce Seviyeniz?                                       28592 non-null  object \n",
      " 42  Daha Önceden Mezun Olunduysa, Mezun Olunan Üniversite      419 non-null    object \n",
      " 43  id                                                         65124 non-null  int64  \n",
      "dtypes: float64(2), int64(2), object(40)\n",
      "memory usage: 21.9+ MB\n"
     ]
    }
   ],
   "source": [
    "train.info()"
   ]
  },
  {
   "cell_type": "code",
   "execution_count": 8,
   "id": "5e2287bb-80dc-4b79-8760-2a444cfbabdc",
   "metadata": {},
   "outputs": [
    {
     "data": {
      "image/png": "[encoded data removed]",
      "text/plain": [
       "<Figure size 1500x500 with 1 Axes>"
      ]
     },
     "metadata": {},
     "output_type": "display_data"
    }
   ],
   "source": [
    "null_ratios = train.isnull().sum() / len(train)\n",
    "null_ratios_over70=null_ratios[null_ratios>0.70]\n",
    "null_ratios.sort_values(ascending=False, inplace=True)\n",
    "# Let's visulize\n",
    "fig = plt.figure(figsize=(15,5))\n",
    "plt.xticks(rotation=90)\n",
    "plt.bar(null_ratios.keys(), null_ratios.values);"
   ]
  },
  {
   "cell_type": "code",
   "execution_count": 9,
   "id": "067af045-8717-434f-a1d4-6595e6009d76",
   "metadata": {},
   "outputs": [],
   "source": [
    "# Bazı kolonlar test setinde olmadığı için bazıları ise boş olduğu için kaldıralım\n",
    "dropped_columns=[\"Burslu ise Burs Yuzdesi\",\"Daha Once Baska Bir Universiteden Mezun Olmus\",\"Lise Adi Diger\",\"Lise Bolum Diger\",\"Lise Turu\",\"Lise Bolumu\",\"Uye Oldugunuz Kulubun Ismi\",\n",
    "                 \"Stk Projesine Katildiniz Mi?\",\"Ingilizce Seviyeniz?\",\"Daha Önceden Mezun Olunduysa, Mezun Olunan Üniversite\",\"Baska Kurumdan Aldigi Burs Miktari\",\"Universite Adi\",\"Bölüm\",\"Lise Adi\"]\n",
    "train=train.drop(dropped_columns,axis=1)\n",
    "test=test.drop(dropped_columns,axis=1)"
   ]
  },
  {
   "cell_type": "code",
   "execution_count": 10,
   "id": "47a7f230-9165-416e-9cc4-17a401c4776f",
   "metadata": {},
   "outputs": [
    {
     "data": {
      "text/plain": [
       "['Cinsiyet',\n",
       " 'Dogum Tarihi',\n",
       " 'Dogum Yeri',\n",
       " 'Ikametgah Sehri',\n",
       " 'Universite Turu',\n",
       " 'Burs Aliyor mu?',\n",
       " 'Universite Kacinci Sinif',\n",
       " 'Universite Not Ortalamasi',\n",
       " 'Lise Sehir',\n",
       " 'Lise Mezuniyet Notu',\n",
       " 'Baska Bir Kurumdan Burs Aliyor mu?',\n",
       " 'Burs Aldigi Baska Kurum',\n",
       " 'Anne Egitim Durumu',\n",
       " 'Anne Calisma Durumu',\n",
       " 'Anne Sektor',\n",
       " 'Baba Egitim Durumu',\n",
       " 'Baba Calisma Durumu',\n",
       " 'Baba Sektor',\n",
       " 'Kardes Sayisi',\n",
       " 'Girisimcilik Kulupleri Tarzi Bir Kulube Uye misiniz?',\n",
       " 'Profesyonel Bir Spor Daliyla Mesgul musunuz?',\n",
       " 'Spor Dalindaki Rolunuz Nedir?',\n",
       " 'Aktif olarak bir STK üyesi misiniz?',\n",
       " \"Hangi STK'nin Uyesisiniz?\",\n",
       " 'Girisimcilikle Ilgili Deneyiminiz Var Mi?',\n",
       " 'Girisimcilikle Ilgili Deneyiminizi Aciklayabilir misiniz?',\n",
       " 'Ingilizce Biliyor musunuz?']"
      ]
     },
     "execution_count": 10,
     "metadata": {},
     "output_type": "execute_result"
    }
   ],
   "source": [
    "def find_categorical_columns(df):\n",
    "    cat_columns=[]\n",
    "    for col in df.columns:\n",
    "        if df[col].dtypes==\"O\":\n",
    "            cat_columns.append(col)\n",
    "    return cat_columns\n",
    "categorical_cols=find_categorical_columns(train)\n",
    "categorical_cols"
   ]
  },
  {
   "cell_type": "code",
   "execution_count": 11,
   "id": "312f3741-c97f-464f-baad-a25b4f0f6b05",
   "metadata": {},
   "outputs": [
    {
     "data": {
      "text/plain": [
       "<Axes: xlabel='Cinsiyet'>"
      ]
     },
     "execution_count": 11,
     "metadata": {},
     "output_type": "execute_result"
    },
    {
     "data": {
      "image/png": "[encoded data removed]",
      "text/plain": [
       "<Figure size 640x480 with 1 Axes>"
      ]
     },
     "metadata": {},
     "output_type": "display_data"
    }
   ],
   "source": [
    "train[\"Cinsiyet\"].value_counts().plot.bar()\n",
    "## iki farklı erkek kategorisi var?"
   ]
  },
  {
   "cell_type": "code",
   "execution_count": 12,
   "id": "c3b9144b-1b34-44fc-b15b-bf45dad8d344",
   "metadata": {},
   "outputs": [
    {
     "data": {
      "text/plain": [
       "<Axes: xlabel='Universite Turu'>"
      ]
     },
     "execution_count": 12,
     "metadata": {},
     "output_type": "execute_result"
    },
    {
     "data": {
      "image/png": "[encoded data removed]",
      "text/plain": [
       "<Figure size 640x480 with 1 Axes>"
      ]
     },
     "metadata": {},
     "output_type": "display_data"
    }
   ],
   "source": [
    "train[\"Universite Turu\"].fillna(\"missing\").value_counts().plot.bar()"
   ]
  },
  {
   "cell_type": "code",
   "execution_count": 13,
   "id": "db1855f5-e9eb-4c7a-8e08-33d2b7070bb6",
   "metadata": {},
   "outputs": [
    {
     "data": {
      "text/plain": [
       "<Axes: xlabel='Burs Aliyor mu?'>"
      ]
     },
     "execution_count": 13,
     "metadata": {},
     "output_type": "execute_result"
    },
    {
     "data": {
      "image/png": "[encoded data removed]",
      "text/plain": [
       "<Figure size 640x480 with 1 Axes>"
      ]
     },
     "metadata": {},
     "output_type": "display_data"
    }
   ],
   "source": [
    "train[\"Burs Aliyor mu?\"].value_counts().plot.bar()"
   ]
  },
  {
   "cell_type": "code",
   "execution_count": 14,
   "id": "880be023-5656-4662-a17f-14e5b6b24f34",
   "metadata": {},
   "outputs": [
    {
     "data": {
      "image/png": "[encoded data removed]",
      "text/plain": [
       "<Figure size 640x480 with 1 Axes>"
      ]
     },
     "metadata": {},
     "output_type": "display_data"
    }
   ],
   "source": [
    "ax=sns.boxplot(data=train,x=\"Universite Not Ortalamasi\",y=\"Degerlendirme Puani\",linewidth=1)\n",
    "plt.xticks(rotation=90);\n",
    "# Not ortalamaları düzgün girilmemiş düzeltilecek"
   ]
  },
  {
   "cell_type": "code",
   "execution_count": 15,
   "id": "aa51875b-ddbc-435b-bc4f-396bc1258c83",
   "metadata": {},
   "outputs": [
    {
     "data": {
      "image/png": "[encoded data removed]",
      "text/plain": [
       "<Figure size 640x480 with 1 Axes>"
      ]
     },
     "metadata": {},
     "output_type": "display_data"
    }
   ],
   "source": [
    "ax=sns.boxplot(data=train,x=\"Lise Mezuniyet Notu\",y=\"Degerlendirme Puani\",linewidth=1)\n",
    "plt.xticks(rotation=90);\n",
    "# Not ortalamaları düzgün girilmemiş düzeltilecek"
   ]
  },
  {
   "cell_type": "code",
   "execution_count": 16,
   "id": "e51c28ea-0fa4-4319-9dad-dde4bdb76033",
   "metadata": {},
   "outputs": [
    {
     "data": {
      "text/plain": [
       "Universite Kacinci Sinif\n",
       "2                21773\n",
       "3                16956\n",
       "4                13112\n",
       "1                10260\n",
       "Hazırlık          1275\n",
       "5                  961\n",
       "Mezun              178\n",
       "6                  177\n",
       "hazırlık            33\n",
       "Yüksek Lisans       15\n",
       "Tez                  7\n",
       "0                    3\n",
       "Name: count, dtype: int64"
      ]
     },
     "execution_count": 16,
     "metadata": {},
     "output_type": "execute_result"
    }
   ],
   "source": [
    "train[\"Universite Kacinci Sinif\"].value_counts()"
   ]
  },
  {
   "cell_type": "code",
   "execution_count": 17,
   "id": "6d097c6d-285c-4a3c-a29a-1bd4f5ee8d8c",
   "metadata": {},
   "outputs": [
    {
     "data": {
      "text/plain": [
       "Baska Bir Kurumdan Burs Aliyor mu?\n",
       "Hayır    48513\n",
       "Evet     16380\n",
       "Name: count, dtype: int64"
      ]
     },
     "execution_count": 17,
     "metadata": {},
     "output_type": "execute_result"
    }
   ],
   "source": [
    "train[\"Baska Bir Kurumdan Burs Aliyor mu?\"].value_counts()"
   ]
  },
  {
   "cell_type": "code",
   "execution_count": 18,
   "id": "8c947a68-14c6-4bee-9273-ba8c882077ae",
   "metadata": {},
   "outputs": [
    {
     "data": {
      "text/plain": [
       "<Axes: xlabel='Anne Calisma Durumu'>"
      ]
     },
     "execution_count": 18,
     "metadata": {},
     "output_type": "execute_result"
    },
    {
     "data": {
      "image/png": "[encoded data removed]",
      "text/plain": [
       "<Figure size 640x480 with 1 Axes>"
      ]
     },
     "metadata": {},
     "output_type": "display_data"
    }
   ],
   "source": [
    "train[\"Anne Calisma Durumu\"].value_counts().plot.bar()"
   ]
  },
  {
   "cell_type": "code",
   "execution_count": 19,
   "id": "33c17dbd-e541-4786-a3d5-26a88ff6a784",
   "metadata": {},
   "outputs": [
    {
     "data": {
      "image/png": "[encoded data removed]",
      "text/plain": [
       "<Figure size 640x480 with 1 Axes>"
      ]
     },
     "metadata": {},
     "output_type": "display_data"
    }
   ],
   "source": [
    "ax=sns.boxplot(data=train,x=\"Anne Calisma Durumu\",y=\"Degerlendirme Puani\",linewidth=1)\n",
    "plt.xticks(rotation=90);"
   ]
  },
  {
   "cell_type": "code",
   "execution_count": 20,
   "id": "8f354656-83a7-4121-817c-aa7bc258b8cc",
   "metadata": {},
   "outputs": [
    {
     "data": {
      "image/png": "[encoded data removed]",
      "text/plain": [
       "<Figure size 640x480 with 1 Axes>"
      ]
     },
     "metadata": {},
     "output_type": "display_data"
    }
   ],
   "source": [
    "ax=sns.boxplot(data=train,x=\"Baba Calisma Durumu\",y=\"Degerlendirme Puani\",linewidth=1)"
   ]
  },
  {
   "cell_type": "code",
   "execution_count": 21,
   "id": "b121c6c7-c940-49c3-9997-7e4272e22c36",
   "metadata": {},
   "outputs": [
    {
     "data": {
      "text/plain": [
       "Kardes Sayisi\n",
       "1.0                                             16186\n",
       "2.0                                             13061\n",
       "3.0                                              6734\n",
       "1                                                6054\n",
       "4.0                                              4611\n",
       "2                                                3938\n",
       "0.0                                              3701\n",
       "5.0                                              3421\n",
       "3                                                2087\n",
       "0                                                1381\n",
       "4                                                 998\n",
       "5                                                 715\n",
       "6.0                                               206\n",
       "7.0                                               159\n",
       "6                                                 135\n",
       "10.0                                              127\n",
       "7                                                 119\n",
       "8.0                                                98\n",
       "9.0                                                79\n",
       "8                                                  75\n",
       "9                                                  43\n",
       "10                                                 42\n",
       "11                                                 12\n",
       "12                                                  5\n",
       "13                                                  2\n",
       "14                                                  1\n",
       "18                                                  1\n",
       "Kardeş Sayısı 1 Ek Bilgi Aile Hk. Anne Vefat        1\n",
       "Name: count, dtype: int64"
      ]
     },
     "execution_count": 21,
     "metadata": {},
     "output_type": "execute_result"
    }
   ],
   "source": [
    "train[\"Kardes Sayisi\"].value_counts()\n",
    "# Kardeş sayısının \".\" dan öncekileri alıp integer veri tipine dönüştür"
   ]
  },
  {
   "cell_type": "code",
   "execution_count": 22,
   "id": "5cbcf1ef-0ff7-45ef-ad67-239ae9451622",
   "metadata": {},
   "outputs": [
    {
     "data": {
      "image/png": "[encoded data removed]",
      "text/plain": [
       "<Figure size 640x480 with 1 Axes>"
      ]
     },
     "metadata": {},
     "output_type": "display_data"
    }
   ],
   "source": [
    "ax=sns.boxplot(data=train,x=\"Girisimcilik Kulupleri Tarzi Bir Kulube Uye misiniz?\",y=\"Degerlendirme Puani\",linewidth=1)\n",
    "# Önemli bir etken"
   ]
  },
  {
   "cell_type": "code",
   "execution_count": 23,
   "id": "7ff1653b-6b13-4b15-a778-41d4f1633b16",
   "metadata": {},
   "outputs": [
    {
     "data": {
      "image/png": "[encoded data removed]",
      "text/plain": [
       "<Figure size 640x480 with 1 Axes>"
      ]
     },
     "metadata": {},
     "output_type": "display_data"
    }
   ],
   "source": [
    "ax=sns.boxplot(data=train,x=\"Profesyonel Bir Spor Daliyla Mesgul musunuz?\",y=\"Degerlendirme Puani\",linewidth=1)\n",
    "# Önemli bir etken"
   ]
  },
  {
   "cell_type": "code",
   "execution_count": 24,
   "id": "ce1832c7-62ec-4876-9884-75f64eef5aee",
   "metadata": {},
   "outputs": [
    {
     "data": {
      "image/png": "[encoded data removed]",
      "text/plain": [
       "<Figure size 640x480 with 1 Axes>"
      ]
     },
     "metadata": {},
     "output_type": "display_data"
    }
   ],
   "source": [
    "ax=sns.boxplot(data=train,x=\"Spor Dalindaki Rolunuz Nedir?\",y=\"Degerlendirme Puani\",linewidth=1)\n",
    "plt.xticks(rotation=90);"
   ]
  },
  {
   "cell_type": "code",
   "execution_count": 25,
   "id": "b68d30de-323e-422d-a10d-16ba743ab144",
   "metadata": {},
   "outputs": [
    {
     "data": {
      "image/png": "[encoded data removed]",
      "text/plain": [
       "<Figure size 640x480 with 1 Axes>"
      ]
     },
     "metadata": {},
     "output_type": "display_data"
    }
   ],
   "source": [
    "ax=sns.boxplot(data=train,x=\"Aktif olarak bir STK üyesi misiniz?\",y=\"Degerlendirme Puani\",linewidth=1)\n",
    "plt.xticks(rotation=90);"
   ]
  },
  {
   "cell_type": "code",
   "execution_count": 26,
   "id": "b357f46f-31ae-4943-8b59-5ec38ab2e5de",
   "metadata": {},
   "outputs": [
    {
     "data": {
      "image/png": "[encoded data removed]",
      "text/plain": [
       "<Figure size 640x480 with 1 Axes>"
      ]
     },
     "metadata": {},
     "output_type": "display_data"
    }
   ],
   "source": [
    "ax=sns.boxplot(data=train,x=\"Girisimcilikle Ilgili Deneyiminiz Var Mi?\",y=\"Degerlendirme Puani\",linewidth=1)\n",
    "plt.xticks(rotation=90);"
   ]
  },
  {
   "cell_type": "code",
   "execution_count": 27,
   "id": "76907239-1c14-4f8b-82c2-36e9f1f5ecd2",
   "metadata": {},
   "outputs": [
    {
     "data": {
      "image/png": "[encoded data removed]",
      "text/plain": [
       "<Figure size 640x480 with 1 Axes>"
      ]
     },
     "metadata": {},
     "output_type": "display_data"
    }
   ],
   "source": [
    "ax=sns.boxplot(data=train,x=\"Ingilizce Biliyor musunuz?\",y=\"Degerlendirme Puani\",linewidth=1)\n",
    "plt.xticks(rotation=90);"
   ]
  },
  {
   "cell_type": "code",
   "execution_count": 28,
   "id": "c4dbd8dc-1f64-47ac-951d-59ad2fcf8722",
   "metadata": {},
   "outputs": [],
   "source": [
    "box_plot_columns=[\"Universite Not Ortalamasi\",\"Burs Aliyor mu?\",\"Lise Mezuniyet Notu\",\"Anne Calisma Durumu\",\"Baba Calisma Durumu\",\"Girisimcilik Kulupleri Tarzi Bir Kulube Uye misiniz?\"\n",
    "                 ,\"Profesyonel Bir Spor Daliyla Mesgul musunuz?\",\"Spor Dalindaki Rolunuz Nedir?\",\"Aktif olarak bir STK üyesi misiniz?\",\"Girisimcilikle Ilgili Deneyiminiz Var Mi?\",\n",
    "                 \"Ingilizce Biliyor musunuz?\",\"Anne Sektor\",\"Baba Sektor\",\"Anne Egitim Durumu\",\"Baba Egitim Durumu\",\"Burs Aldigi Baska Kurum\",\"Cinsiyet\"]\n"
   ]
  },
  {
   "cell_type": "markdown",
   "id": "9974ce3c-9c8e-4378-9c67-d2b0d252399c",
   "metadata": {},
   "source": [
    "## data Celaning"
   ]
  },
  {
   "cell_type": "code",
   "execution_count": 29,
   "id": "b221658a-31e5-4d83-a702-deda900344ff",
   "metadata": {},
   "outputs": [],
   "source": [
    "# Bu method verilerimizi düzgün bir biçimde lower case yapacak\n",
    "def turkish_lowercase(text):\n",
    "    replacements = {\n",
    "        'İ': 'i',\n",
    "        'I': 'ı',\n",
    "        'Ş': 'ş',\n",
    "        'Ç': 'ç',\n",
    "        'Ğ': 'ğ',\n",
    "        'Ö': 'ö',\n",
    "        'Ü': 'ü',\n",
    "        'ı': 'ı',\n",
    "        'ş': 'ş',\n",
    "        'ç': 'ç',\n",
    "        'ğ': 'ğ',\n",
    "        'ö': 'ö',\n",
    "        'ü': 'ü'\n",
    "    }\n",
    "    return ''.join(replacements.get(char, char) for char in text).lower()"
   ]
  },
  {
   "cell_type": "markdown",
   "id": "1f56554d-4640-4d75-a057-999f1f605809",
   "metadata": {},
   "source": [
    "### String Değerleri Düzenle (Lowe Case)"
   ]
  },
  {
   "cell_type": "code",
   "execution_count": 30,
   "id": "58017df2-e1cc-4e8d-9eb7-e70a27861590",
   "metadata": {},
   "outputs": [],
   "source": [
    "low_columns = ['Cinsiyet', 'Dogum Yeri', \"Ikametgah Sehri\", \n",
    "           'Universite Turu', 'Burs Aliyor mu?',\n",
    "           'Lise Sehir', 'Burs Aldigi Baska Kurum', 'Anne Egitim Durumu',\n",
    "           'Anne Sektor', 'Baba Calisma Durumu', 'Baba Sektor', 'Spor Dalindaki Rolunuz Nedir?',\"Dogum Yeri\",\"Baba Egitim Durumu\"]"
   ]
  },
  {
   "cell_type": "code",
   "execution_count": 31,
   "id": "8379ba7d-81e5-4883-abdc-74ba8e31798a",
   "metadata": {},
   "outputs": [],
   "source": [
    "# Lowecase yapan method\n",
    "def make_lowercase(list_of_low, df):\n",
    "    for label in list_of_low:\n",
    "        df[label]=df[label].fillna(\"-\")\n",
    "        df[label] = df[label].apply(turkish_lowercase)"
   ]
  },
  {
   "cell_type": "code",
   "execution_count": 32,
   "id": "6342cf28-0785-4d16-aa6d-088860474b9d",
   "metadata": {},
   "outputs": [],
   "source": [
    "make_lowercase(low_columns, train)"
   ]
  },
  {
   "cell_type": "code",
   "execution_count": 33,
   "id": "c7a3e6d5-10ee-4745-a67e-9a06f926d66d",
   "metadata": {},
   "outputs": [],
   "source": [
    "make_lowercase(low_columns, test)"
   ]
  },
  {
   "cell_type": "markdown",
   "id": "4669d5a0-6a5f-4e51-9065-5eafc50d216f",
   "metadata": {},
   "source": [
    "### University Note translate\r\n"
   ]
  },
  {
   "cell_type": "code",
   "execution_count": 34,
   "id": "285180ed-216a-4360-a7f7-95a6a71bb1fe",
   "metadata": {},
   "outputs": [],
   "source": [
    "# Fill the empty note data\n",
    "train['Universite Not Ortalamasi'] = train['Universite Not Ortalamasi'].fillna('missing')"
   ]
  },
  {
   "cell_type": "code",
   "execution_count": 35,
   "id": "21f2081f-8172-4df8-8978-2ad2e3020c4d",
   "metadata": {},
   "outputs": [
    {
     "data": {
      "text/plain": [
       "array(['2.50 - 2.99', 'Hazırlığım', '3.00 - 3.49', '1.80 - 2.49',\n",
       "       '3.50 - 4.00', '0 - 1.79'], dtype=object)"
      ]
     },
     "execution_count": 35,
     "metadata": {},
     "output_type": "execute_result"
    }
   ],
   "source": [
    "test['Universite Not Ortalamasi'].unique()"
   ]
  },
  {
   "cell_type": "code",
   "execution_count": 36,
   "id": "1c32fa34-03e8-4f58-8969-3a7d72b943ee",
   "metadata": {},
   "outputs": [],
   "source": [
    "# Universite Notunu duzgun formata uyarlayiniz.\n",
    "Univertiy_map = {'Ortalama bulunmuyor': 'missing',\n",
    "                 'ORTALAMA BULUNMUYOR': 'missing',\n",
    "                 'Not ortalaması yok': 'missing',\n",
    "                 'Hazırlığım': 'Hazırlığım',\n",
    "                 '3.50-3': '3.00 - 3.49',\n",
    "                 '3.00-2.50': '2.50 - 2.99',\n",
    "                 '2.50 ve altı': '1.80 - 2.49',\n",
    "                 '3.00 - 4.00': '3.00 - 3.49',\n",
    "                 '3.50 - 4.00': '3.50 - 4.00',\n",
    "                 '3.00 - 3.50': '3.00 - 3.49',\n",
    "                 '2.50 -3.00': '2.50 - 2.99',\n",
    "                 '4-3.5': '3.50 - 4.00',\n",
    "                 '2.50 - 3.00': '2.50 - 2.99',\n",
    "                 '2.00 - 2.50': '1.80 - 2.49',\n",
    "                 '1.00 - 2.50': '1.80 - 2.49',\n",
    "                 '4.0-3.5': '3.50 - 4.00',\n",
    "                 '3.00 - 3.49': '3.00 - 3.49',\n",
    "                 '2.50 - 2.99': '2.50 - 2.99',\n",
    "                 '1.80 - 2.49': '1.80 - 2.49',\n",
    "                 '0 - 1.79': '0 - 1.79',\n",
    "                 'missing': 'missing'\n",
    "                }\n",
    "train['Universite Not Ortalamasi'] = train['Universite Not Ortalamasi'].map(Univertiy_map)"
   ]
  },
  {
   "cell_type": "code",
   "execution_count": 37,
   "id": "ca734f92-37ca-4848-bb74-ced36163b974",
   "metadata": {},
   "outputs": [
    {
     "data": {
      "text/plain": [
       "array(['3.00 - 3.49', '2.50 - 2.99', 'missing', '1.80 - 2.49',\n",
       "       '3.50 - 4.00', 'Hazırlığım', '0 - 1.79'], dtype=object)"
      ]
     },
     "execution_count": 37,
     "metadata": {},
     "output_type": "execute_result"
    }
   ],
   "source": [
    "pd.unique(train['Universite Not Ortalamasi'])"
   ]
  },
  {
   "cell_type": "code",
   "execution_count": 38,
   "id": "249df291-4414-4e9c-b448-52b62552c2b3",
   "metadata": {},
   "outputs": [
    {
     "data": {
      "text/plain": [
       "0"
      ]
     },
     "execution_count": 38,
     "metadata": {},
     "output_type": "execute_result"
    }
   ],
   "source": [
    "train['Universite Not Ortalamasi'].isna().sum()"
   ]
  },
  {
   "cell_type": "markdown",
   "id": "4f99152e-e646-4f60-bd44-994e963c2e28",
   "metadata": {},
   "source": [
    "### Spor dalindaki rolunuz nedir kolonunu duzenleme\n"
   ]
  },
  {
   "cell_type": "code",
   "execution_count": 39,
   "id": "c52a1a3f-6302-49ae-bd3c-e16ac26bdd23",
   "metadata": {},
   "outputs": [
    {
     "data": {
      "text/plain": [
       "array(['takım oyuncusu', 'bireysel spor', '-', 'lider/kaptan', 'diğer'],\n",
       "      dtype=object)"
      ]
     },
     "execution_count": 39,
     "metadata": {},
     "output_type": "execute_result"
    }
   ],
   "source": [
    "test['Spor Dalindaki Rolunuz Nedir?'].unique()"
   ]
  },
  {
   "cell_type": "code",
   "execution_count": 40,
   "id": "abc44214-cfc6-4de8-98e4-59d75e8a2ea3",
   "metadata": {},
   "outputs": [
    {
     "data": {
      "text/plain": [
       "array(['diğer', '0', '-', 'kaptan', 'kaptan / lider', 'lider/kaptan',\n",
       "       'bireysel', 'takım oyuncusu'], dtype=object)"
      ]
     },
     "execution_count": 40,
     "metadata": {},
     "output_type": "execute_result"
    }
   ],
   "source": [
    "train['Spor Dalindaki Rolunuz Nedir?'].unique()"
   ]
  },
  {
   "cell_type": "code",
   "execution_count": 41,
   "id": "491aa313-a857-4da0-b61f-9466530adfa3",
   "metadata": {},
   "outputs": [],
   "source": [
    "spor_mapping = {\n",
    "    'diğer': 'diğer',\n",
    "    '0': '-',\n",
    "    '-': '-',\n",
    "    'kaptan': 'lider/kaptan',\n",
    "    'kaptan / li̇der': 'lider/kaptan',\n",
    "    'di̇ğer': 'diğer', \n",
    "    'lider/kaptan': 'lider/kaptan', \n",
    "    'bireysel': 'bireysel spor',\n",
    "    'takım oyuncusu': 'takım oyuncusu'\n",
    "}"
   ]
  },
  {
   "cell_type": "code",
   "execution_count": 42,
   "id": "dc3b4ee6-2d95-457a-98b2-720528b9d85f",
   "metadata": {},
   "outputs": [],
   "source": [
    "train[\"Spor Dalindaki Rolunuz Nedir?\"] = train[\"Spor Dalindaki Rolunuz Nedir?\"].fillna('-')"
   ]
  },
  {
   "cell_type": "code",
   "execution_count": 43,
   "id": "1557e806-02e6-43f2-9695-2222fd41bf85",
   "metadata": {},
   "outputs": [],
   "source": [
    "# Burdaki verileri test setindeki verilerle aynı formata getiriyoruz\n",
    "train['Spor Dalindaki Rolunuz Nedir?'] = train['Spor Dalindaki Rolunuz Nedir?'].map(spor_mapping)"
   ]
  },
  {
   "cell_type": "code",
   "execution_count": 44,
   "id": "84e4c59e-15bb-4069-a91b-77d9380dce63",
   "metadata": {},
   "outputs": [
    {
     "data": {
      "text/plain": [
       "array(['diğer', '-', 'lider/kaptan', nan, 'bireysel spor',\n",
       "       'takım oyuncusu'], dtype=object)"
      ]
     },
     "execution_count": 44,
     "metadata": {},
     "output_type": "execute_result"
    }
   ],
   "source": [
    "# Visulize train unique values\n",
    "pd.unique(train[\"Spor Dalindaki Rolunuz Nedir?\"])"
   ]
  },
  {
   "cell_type": "markdown",
   "id": "e13c6f7c-c95c-43fc-9df3-c062a38dba7c",
   "metadata": {},
   "source": [
    "### Lise Mezuniyet Notu Düzenleme"
   ]
  },
  {
   "cell_type": "code",
   "execution_count": 45,
   "id": "40b5b9aa-01a0-4190-b0a1-8d86c87025b2",
   "metadata": {},
   "outputs": [
    {
     "data": {
      "text/plain": [
       "(Lise Mezuniyet Notu\n",
       " 75 - 100              22432\n",
       " 84-70                  9141\n",
       " 100-85                 6967\n",
       " 4.00-3.50              3689\n",
       " 50 - 75                3115\n",
       " 3.00 - 4.00            3101\n",
       " 3.50-3.00              2759\n",
       " 3.50-3                 2330\n",
       " 69-55                  2162\n",
       " 3.00-2.50              2153\n",
       " 50 - 74                1007\n",
       " 2.50 ve altı            226\n",
       " 54-45                    88\n",
       " 25 - 50                  14\n",
       " Not ortalaması yok       11\n",
       " 44-0                      6\n",
       " 0 - 25                    3\n",
       " 25 - 49                   2\n",
       " 0 - 24                    1\n",
       " Name: count, dtype: int64,\n",
       " Lise Mezuniyet Notu\n",
       " 75 - 100    9742\n",
       " 50 - 74     1301\n",
       " 25 - 49        6\n",
       " Name: count, dtype: int64)"
      ]
     },
     "execution_count": 45,
     "metadata": {},
     "output_type": "execute_result"
    }
   ],
   "source": [
    "train[\"Lise Mezuniyet Notu\"].value_counts(),test[\"Lise Mezuniyet Notu\"].value_counts()"
   ]
  },
  {
   "cell_type": "code",
   "execution_count": 46,
   "id": "25d93554-386c-4a52-b1bf-9f4c2955a024",
   "metadata": {},
   "outputs": [],
   "source": [
    "bir=\"75-100\"\n",
    "iki=\"50 - 74\"\n",
    "uc=\"25 - 49\"\n",
    "lise_mezuniyet_map={\n",
    "    \"75 - 100\":bir,\n",
    "    \"84-70\":bir,#85-75=10 fark 75-70=5 fark\n",
    "    \"100-85\":bir,\n",
    "    \"4.00-3.50\":bir,\n",
    "    \"50 - 75\":iki,\n",
    "    \"3.00 - 4.00\":bir ,\n",
    "    \"3.50-3.00\":bir ,\n",
    "    \"3.50-3\":bir,\n",
    "    \"69-55\":iki,\n",
    "    \"3.00-2.50\":iki,\n",
    "    \"50 - 74\":iki,\n",
    "    \"2.50 ve altı\":uc,\n",
    "    \"25 - 50\":uc,\n",
    "    \"25 - 49\":uc\n",
    "}\n",
    "train['Lise Mezuniyet Notu'] = train['Lise Mezuniyet Notu'].map(lise_mezuniyet_map)"
   ]
  },
  {
   "cell_type": "code",
   "execution_count": 47,
   "id": "51f314b5-e6c4-4c77-9bd6-ed1de8489d46",
   "metadata": {},
   "outputs": [],
   "source": [
    "values_to_drop=[\"Not ortalaması yok\",\"44-0\",\"0 - 25\",\"0 - 24\"]\n",
    "indexes_to_drop = train[train['Lise Mezuniyet Notu'].isin(values_to_drop)].index\n",
    "train = train.drop(indexes_to_drop)"
   ]
  },
  {
   "cell_type": "code",
   "execution_count": 48,
   "id": "b1f4330f-f0be-4baf-9f59-e1219f249065",
   "metadata": {},
   "outputs": [
    {
     "data": {
      "text/plain": [
       "(Lise Mezuniyet Notu\n",
       " 75-100     50419\n",
       " 50 - 74     8437\n",
       " 25 - 49      242\n",
       " Name: count, dtype: int64,\n",
       " Lise Mezuniyet Notu\n",
       " 75 - 100    9742\n",
       " 50 - 74     1301\n",
       " 25 - 49        6\n",
       " Name: count, dtype: int64)"
      ]
     },
     "execution_count": 48,
     "metadata": {},
     "output_type": "execute_result"
    }
   ],
   "source": [
    "train[\"Lise Mezuniyet Notu\"].value_counts(),test[\"Lise Mezuniyet Notu\"].value_counts()"
   ]
  },
  {
   "cell_type": "markdown",
   "id": "09c1ada2-9464-4307-be6a-2e582a2c9365",
   "metadata": {},
   "source": [
    "### Anne Baba Calisma Durumu"
   ]
  },
  {
   "cell_type": "code",
   "execution_count": 49,
   "id": "86a58dd2-4227-40ce-97a7-a592aab8cfdb",
   "metadata": {},
   "outputs": [
    {
     "data": {
      "text/plain": [
       "Anne Calisma Durumu\n",
       "Hayır     39370\n",
       "Evet      10504\n",
       "Emekli     3354\n",
       "Name: count, dtype: int64"
      ]
     },
     "execution_count": 49,
     "metadata": {},
     "output_type": "execute_result"
    }
   ],
   "source": [
    "train[\"Anne Calisma Durumu\"].value_counts()"
   ]
  },
  {
   "cell_type": "code",
   "execution_count": 50,
   "id": "c8e6870b-30c8-4f0e-9a5d-ea8900af0545",
   "metadata": {},
   "outputs": [
    {
     "data": {
      "text/plain": [
       "Anne Calisma Durumu\n",
       "Hayır    8691\n",
       "Evet     2358\n",
       "Name: count, dtype: int64"
      ]
     },
     "execution_count": 50,
     "metadata": {},
     "output_type": "execute_result"
    }
   ],
   "source": [
    "test[\"Anne Calisma Durumu\"].value_counts()"
   ]
  },
  {
   "cell_type": "markdown",
   "id": "3981bc68-d4fc-455b-90eb-550bdbb89ee9",
   "metadata": {},
   "source": [
    "### Anne Baba Sektor Verilerini Düzenle"
   ]
  },
  {
   "cell_type": "code",
   "execution_count": 51,
   "id": "14d557f3-4157-4ab0-8090-a8f4db170f99",
   "metadata": {},
   "outputs": [
    {
     "data": {
      "text/plain": [
       "(array(['özel sektör', '-', 'kamu', 'diğer'], dtype=object),\n",
       " array(['diğer', 'özel sektör', '-', 'kamu'], dtype=object))"
      ]
     },
     "execution_count": 51,
     "metadata": {},
     "output_type": "execute_result"
    }
   ],
   "source": [
    "test['Anne Sektor'].unique(),test['Baba Sektor'].unique()"
   ]
  },
  {
   "cell_type": "code",
   "execution_count": 52,
   "id": "e760f20a-8caf-449b-ba8e-fa2ff77829af",
   "metadata": {},
   "outputs": [
    {
     "data": {
      "text/plain": [
       "(array(['0', 'kamu', 'özel sektör', 'diğer', '-'], dtype=object),\n",
       " array(['0', 'özel sektör', 'kamu', '-', 'diğer'], dtype=object))"
      ]
     },
     "execution_count": 52,
     "metadata": {},
     "output_type": "execute_result"
    }
   ],
   "source": [
    "train['Anne Sektor'].unique(),train['Baba Sektor'].unique()"
   ]
  },
  {
   "cell_type": "code",
   "execution_count": 53,
   "id": "d8c9d40b-1a86-41c9-b4fd-4f40a03206cc",
   "metadata": {},
   "outputs": [],
   "source": [
    "train[\"Anne Sektor\"] = train[\"Anne Sektor\"].fillna('-')\n",
    "train[\"Baba Sektor\"] = train[\"Baba Sektor\"].fillna('-')"
   ]
  },
  {
   "cell_type": "code",
   "execution_count": 54,
   "id": "0df7c0d5-74bd-4348-87de-8ad70307e512",
   "metadata": {},
   "outputs": [],
   "source": [
    "sektor_mapping = {\n",
    "    'diğer': 'diğer',\n",
    "    '0': '-',\n",
    "    '-': '-',\n",
    "    'kamu': 'kamu',\n",
    "    'özel sektör': 'özel sektör',\n",
    "}"
   ]
  },
  {
   "cell_type": "code",
   "execution_count": 55,
   "id": "12ff31d4-09a8-42ee-9cca-86c3def3da7a",
   "metadata": {},
   "outputs": [
    {
     "data": {
      "text/plain": [
       "(0, 0)"
      ]
     },
     "execution_count": 55,
     "metadata": {},
     "output_type": "execute_result"
    }
   ],
   "source": [
    "test[\"Anne Sektor\"].isna().sum(),test[\"Baba Sektor\"].isna().sum()"
   ]
  },
  {
   "cell_type": "code",
   "execution_count": 56,
   "id": "d9cec863-98e5-4429-8a83-fdcf545cf57a",
   "metadata": {},
   "outputs": [
    {
     "data": {
      "text/plain": [
       "(0, 0)"
      ]
     },
     "execution_count": 56,
     "metadata": {},
     "output_type": "execute_result"
    }
   ],
   "source": [
    "train[\"Anne Sektor\"].isna().sum(),train[\"Baba Sektor\"].isna().sum()"
   ]
  },
  {
   "cell_type": "code",
   "execution_count": 57,
   "id": "d1492f4b-7454-4736-b5ba-8e7186e63c18",
   "metadata": {},
   "outputs": [],
   "source": [
    "train['Anne Sektor'] = train['Anne Sektor'].map(sektor_mapping)\n",
    "train['Baba Sektor'] = train['Baba Sektor'].map(sektor_mapping)"
   ]
  },
  {
   "cell_type": "code",
   "execution_count": 58,
   "id": "cc36a81f-8f22-4552-a890-77bbfa036bb3",
   "metadata": {},
   "outputs": [
    {
     "data": {
      "text/plain": [
       "(array(['-', 'kamu', 'özel sektör', 'diğer'], dtype=object),\n",
       " array(['-', 'özel sektör', 'kamu', 'diğer'], dtype=object))"
      ]
     },
     "execution_count": 58,
     "metadata": {},
     "output_type": "execute_result"
    }
   ],
   "source": [
    "train['Anne Sektor'].unique(),train['Baba Sektor'].unique()"
   ]
  },
  {
   "cell_type": "markdown",
   "id": "150c5424-922d-4961-8435-d4f19c415a66",
   "metadata": {},
   "source": [
    "### Anne Baba Egitim Durumu"
   ]
  },
  {
   "cell_type": "code",
   "execution_count": 59,
   "id": "474c3328-8213-4299-9171-2a0dff1ac636",
   "metadata": {},
   "outputs": [
    {
     "data": {
      "text/plain": [
       "(Anne Egitim Durumu\n",
       " ilkokul          3977\n",
       " lise             2362\n",
       " üniversite       1798\n",
       " eğitimi yok      1457\n",
       " ortaokul         1272\n",
       " yüksek lisans     143\n",
       " doktora            40\n",
       " Name: count, dtype: int64,\n",
       " Baba Egitim Durumu\n",
       " ilkokul          3144\n",
       " üniversite       2728\n",
       " lise             2706\n",
       " ortaokul         1666\n",
       " eğitimi yok       427\n",
       " yüksek lisans     272\n",
       " doktora           106\n",
       " Name: count, dtype: int64)"
      ]
     },
     "execution_count": 59,
     "metadata": {},
     "output_type": "execute_result"
    }
   ],
   "source": [
    "test[\"Anne Egitim Durumu\"].value_counts(),test[\"Baba Egitim Durumu\"].value_counts()"
   ]
  },
  {
   "cell_type": "code",
   "execution_count": 60,
   "id": "c7b0a384-239e-4000-b463-2b7923a4a6d9",
   "metadata": {},
   "outputs": [],
   "source": [
    "train[\"Baba Egitim Durumu\"]=train[\"Baba Egitim Durumu\"].fillna(\"missin\")"
   ]
  },
  {
   "cell_type": "code",
   "execution_count": 61,
   "id": "8137ebda-063d-43dd-b6f3-646d29ec84c8",
   "metadata": {},
   "outputs": [],
   "source": [
    "train[\"Baba Egitim Durumu\"]=train[\"Baba Egitim Durumu\"].apply(turkish_lowercase)"
   ]
  },
  {
   "cell_type": "code",
   "execution_count": 62,
   "id": "770cd6d0-d01a-4355-8451-798249b368f6",
   "metadata": {
    "scrolled": true
   },
   "outputs": [
    {
     "data": {
      "text/plain": [
       "(Anne Egitim Durumu\n",
       " ilkokul mezunu             15800\n",
       " lise                       12049\n",
       " ilkokul                    10350\n",
       " üniversite                  7937\n",
       " eğitim yok                  4746\n",
       " ortaokul mezunu             3907\n",
       " eğitimi yok                 3605\n",
       " ortaokul                    3126\n",
       " lise mezunu                 1346\n",
       " üniversite mezunu           1075\n",
       " yüksek lisans                427\n",
       " -                            406\n",
       " doktora                      142\n",
       " yüksek lisans / doktora      123\n",
       " yüksek lisans / doktara       85\n",
       " Name: count, dtype: int64,\n",
       " Baba Egitim Durumu\n",
       " lise                       14490\n",
       " üniversite                 13407\n",
       " ilkokul mezunu             11173\n",
       " ilkokul                     8256\n",
       " ortaokul mezunu             5071\n",
       " ortaokul                    4109\n",
       " üniversite mezunu           1731\n",
       " lise mezunu                 1405\n",
       " eğitim yok                  1396\n",
       " eğitimi yok                 1102\n",
       " -                           1007\n",
       " yüksek lisans                963\n",
       " doktora                      399\n",
       " yüksek lisans / doktora      289\n",
       " yüksek lisans / doktara      215\n",
       " 0                            111\n",
       " Name: count, dtype: int64)"
      ]
     },
     "execution_count": 62,
     "metadata": {},
     "output_type": "execute_result"
    }
   ],
   "source": [
    "train[\"Anne Egitim Durumu\"].value_counts(),train[\"Baba Egitim Durumu\"].value_counts()"
   ]
  },
  {
   "cell_type": "code",
   "execution_count": 63,
   "id": "3b29afc3-68a7-4a8e-b94e-df22ef8ae74e",
   "metadata": {},
   "outputs": [],
   "source": [
    "egitim_durumu_mapping={\n",
    "    \"ilkokul mezunu\":\"ilkokul\",\n",
    "    \"ilkokul\":\"ilkokul\",\n",
    "    \"lise\":\"lise\",\n",
    "    \"lise mezunu\":\"lise\",\n",
    "    \"ortaokul mezunu\":\"ortaokul\",\n",
    "    \"ortaokul\":\"ortaokul\",\n",
    "    \"eğitimi yok\":\"eğitimi yok\",\n",
    "    \"eğitim yok\":\"eğitimi yok\",\n",
    "    \"0\":\"eğitimi yok\",\n",
    "    \"üniversite mezunu\":\"üniversite\",\n",
    "    \"üniversite\":\"üniversite\",\n",
    "    \"yüksek lisans\":\"yüksek lisans\",\n",
    "    \"doktora\":\"doktora\",\n",
    "    \"yüksek lisans / doktora\":\"doktora\",\n",
    "    \"yüksek lisans / doktara\":\"doktora\",   \n",
    "}"
   ]
  },
  {
   "cell_type": "code",
   "execution_count": 64,
   "id": "82f3b068-7715-4739-816c-35d2f0467192",
   "metadata": {},
   "outputs": [],
   "source": [
    "train['Anne Egitim Durumu'] = train['Anne Egitim Durumu'].map(egitim_durumu_mapping)\n",
    "train['Baba Egitim Durumu'] = train['Baba Egitim Durumu'].map(egitim_durumu_mapping)"
   ]
  },
  {
   "cell_type": "code",
   "execution_count": 65,
   "id": "f70f816b-491b-4de6-a930-81f4c371d119",
   "metadata": {},
   "outputs": [
    {
     "data": {
      "text/plain": [
       "(Anne Egitim Durumu\n",
       " ilkokul          3977\n",
       " lise             2362\n",
       " üniversite       1798\n",
       " eğitimi yok      1457\n",
       " ortaokul         1272\n",
       " yüksek lisans     143\n",
       " doktora            40\n",
       " Name: count, dtype: int64,\n",
       " Baba Egitim Durumu\n",
       " ilkokul          3144\n",
       " üniversite       2728\n",
       " lise             2706\n",
       " ortaokul         1666\n",
       " eğitimi yok       427\n",
       " yüksek lisans     272\n",
       " doktora           106\n",
       " Name: count, dtype: int64)"
      ]
     },
     "execution_count": 65,
     "metadata": {},
     "output_type": "execute_result"
    }
   ],
   "source": [
    "test[\"Anne Egitim Durumu\"].value_counts(),test[\"Baba Egitim Durumu\"].value_counts()"
   ]
  },
  {
   "cell_type": "code",
   "execution_count": 66,
   "id": "d3c2d2a7-d33a-43f3-be91-cf576adc9b6f",
   "metadata": {},
   "outputs": [
    {
     "data": {
      "text/plain": [
       "Anne Egitim Durumu\n",
       "ilkokul          26150\n",
       "lise             13395\n",
       "üniversite        9012\n",
       "eğitimi yok       8351\n",
       "ortaokul          7033\n",
       "yüksek lisans      427\n",
       "doktora            350\n",
       "Name: count, dtype: int64"
      ]
     },
     "execution_count": 66,
     "metadata": {},
     "output_type": "execute_result"
    }
   ],
   "source": [
    "train[\"Anne Egitim Durumu\"].value_counts()"
   ]
  },
  {
   "cell_type": "code",
   "execution_count": 67,
   "id": "2694d456-d098-42ae-b96c-db509d82bdfa",
   "metadata": {},
   "outputs": [
    {
     "data": {
      "text/plain": [
       "Baba Egitim Durumu\n",
       "ilkokul          19429\n",
       "lise             15895\n",
       "üniversite       15138\n",
       "ortaokul          9180\n",
       "eğitimi yok       2609\n",
       "yüksek lisans      963\n",
       "doktora            903\n",
       "Name: count, dtype: int64"
      ]
     },
     "execution_count": 67,
     "metadata": {},
     "output_type": "execute_result"
    }
   ],
   "source": [
    "train[\"Baba Egitim Durumu\"].value_counts()"
   ]
  },
  {
   "cell_type": "markdown",
   "id": "876376c9-4880-4cd5-b30f-efcddd52f17d",
   "metadata": {},
   "source": [
    "### Burs aldigi baska kurum duzenleme"
   ]
  },
  {
   "cell_type": "markdown",
   "id": "1162009b-bfc1-47a5-9243-51b233cb19fc",
   "metadata": {},
   "source": [
    "Burslari 3 parcaya ayirdim\n",
    "\n",
    "1. Kyk Bursu alan - kyk\n",
    "2. Diger yerlerden (Vakıf vb.) burs alan - diger\n",
    "2. Burs almayan - yok"
   ]
  },
  {
   "cell_type": "code",
   "execution_count": 68,
   "id": "7d4499ef-14d7-4c5c-8bd1-4e36641016e8",
   "metadata": {},
   "outputs": [
    {
     "data": {
      "text/plain": [
       "Burs Aldigi Baska Kurum\n",
       "-                                         6524\n",
       "kyk                                       1790\n",
       "kyk bursu                                  300\n",
       "kredi ve yurtlar kurumu                    215\n",
       "kredi yurtlar kurumu                       200\n",
       "devlet                                     160\n",
       "devlet bursu                                65\n",
       "gençlik ve spor bakanlığı                   63\n",
       "kyk devlet bursu                            50\n",
       "kyk burs                                    47\n",
       "kyk bursu alıyorum                          45\n",
       "kredi ve yurtlar genel müdürlüğü            41\n",
       "gsb                                         29\n",
       "mehmet zorlu vakfı                          26\n",
       "tev                                         26\n",
       "türk eğitim vakfı                           25\n",
       "kyk bursu alıyorum.                         23\n",
       "tübitak                                     22\n",
       "devlet kyk bursu                            20\n",
       "kyk kredi                                   19\n",
       "çağdaş yaşamı destekleme derneği            19\n",
       "devlet kyk                                  18\n",
       "vakıflar genel müdürlüğü                    18\n",
       "t3 vakfı                                    17\n",
       "sabancı vakfı                               14\n",
       "yüksek öğrenim kredi ve yurtlar kurumu      13\n",
       "özyeğin üniversitesi                        12\n",
       "kredi ve yurtlar kurumu (kyk)               11\n",
       "meb                                         10\n",
       "yüksek öğrenim ve kredi yurtlar kurumu      10\n",
       "gençlik spor bakanlığı                       9\n",
       "kyk öğrenim bursu                            9\n",
       "kredi yurtlar kurumu (kyk)                   9\n",
       "türk tarih kurumu                            8\n",
       "kredi ve yurtlar kurumu bursu                8\n",
       "kyk kredisi                                  8\n",
       "istanbul büyükşehir belediyesi               8\n",
       "yök                                          7\n",
       "anadolu vakfı                                7\n",
       "ibb                                          7\n",
       "gençlik ve spor bakanlığı kyk bursu          6\n",
       "devlet bursu kyk                             6\n",
       "yeditepe üniversitesi                        6\n",
       "kyk kredi bursu                              6\n",
       "kredi yurtlar kurumu bursu                   5\n",
       "kredi yurtlar kurumu öğrenim bursu           5\n",
       "kredi yurtlar kurumu(kyk)                    5\n",
       "vakıf                                        5\n",
       "kredi ve yurtlar kurumu öğrenim bursu        5\n",
       "meb öğretmenlik bursu                        4\n",
       "koç üniversitesi                             4\n",
       "istanbul vakfı                               4\n",
       "borusan kocabıyık vakfı                      4\n",
       "toplum gönüllüleri vakfı                     4\n",
       "rönesans eğitim vakfı                        4\n",
       "Name: count, dtype: int64"
      ]
     },
     "execution_count": 68,
     "metadata": {},
     "output_type": "execute_result"
    }
   ],
   "source": [
    "array = test['Burs Aldigi Baska Kurum'].value_counts()\n",
    "array = array[:55]\n",
    "array"
   ]
  },
  {
   "cell_type": "code",
   "execution_count": 69,
   "id": "87e8d7f4-1135-4a70-b64d-66bcd1a3c244",
   "metadata": {},
   "outputs": [],
   "source": [
    "\n",
    "kyk = 'kyk'\n",
    "burs_mapping_test ={\n",
    "'-': '-',\n",
    "\"KYK\": kyk,                              \n",
    "\"Kyk\": kyk,                                  \n",
    "\"kyk\": kyk,                                  \n",
    "\"Devlet\": kyk,                               \n",
    "\"Kredi ve Yurtlar Kurumu\": kyk,              \n",
    "\"Kredi Yurtlar Kurumu\": kyk,                 \n",
    "\"Kyk bursu\": kyk,                            \n",
    "\"KYK bursu\": kyk,                            \n",
    "\"Devlet bursu\": kyk,                         \n",
    "\"Kredi yurtlar kurumu\": kyk,                 \n",
    "\"Kredi ve yurtlar kurumu\": kyk,              \n",
    "\"KYK Bursu\": kyk,                            \n",
    "\"Gençlik ve Spor Bakanlığı\": kyk,            \n",
    "\"Kredi ve Yurtlar Genel Müdürlüğü\": kyk,     \n",
    "\"KYK burs\": kyk,                             \n",
    "\"KYK BURSU\": kyk,                            \n",
    "\"Kyk devlet bursu\": kyk,                     \n",
    "\"GSB\": kyk,                                  \n",
    "\"Kyk bursu alıyorum\": kyk,                   \n",
    "\"KYK bursu alıyorum.\": kyk,                 \n",
    "\"Kyk Bursu\": kyk,                            \n",
    "\"kyk bursu\": kyk,                            \n",
    "\"devlet\": kyk,                             \n",
    "\"KYK bursu alıyorum\": kyk,                  \n",
    "\"KREDİ YURTLAR KURUMU\": kyk,         \n",
    "}"
   ]
  },
  {
   "cell_type": "code",
   "execution_count": 70,
   "id": "380ad662-ecef-4cca-a8a2-f8f2a02a34c6",
   "metadata": {},
   "outputs": [],
   "source": [
    "\n",
    "kyk = 'kyk'\n",
    "burs_mapping_train = {\n",
    "'kyk': kyk,                                  \n",
    "'-': '-',                                        \n",
    "'kredi ve yurtlar kurumu': kyk,                   \n",
    "'kredi yurtlar kurumu': kyk,                      \n",
    "'kyk bursu': kyk,                                 \n",
    "'devlet': kyk,                                    \n",
    "'devlet bursu': kyk,                              \n",
    "'k': kyk,                                         \n",
    "'kyk devlet bursu': kyk,                          \n",
    "'ky': kyk,                                        \n",
    "'kyk kredi': kyk,                                 \n",
    "'gençlik ve spor bakanlığı': kyk,                 \n",
    "'kyk bursu alıyorum': kyk,                        \n",
    "'kredi̇ ve yurtlar kurumu': kyk,                  \n",
    "'kredi ve yurtlar genel müdürlüğü': kyk,          \n",
    "'kyk burs': kyk,                                  \n",
    "'kredi̇ yurtlar kurumu': kyk,                     \n",
    "'yüksek öğrenim kredi ve yurtlar kurumu': kyk,    \n",
    "}"
   ]
  },
  {
   "cell_type": "code",
   "execution_count": 71,
   "id": "2b6aef40-d519-41db-8759-8ff005edaa0b",
   "metadata": {},
   "outputs": [
    {
     "data": {
      "text/plain": [
       "0"
      ]
     },
     "execution_count": 71,
     "metadata": {},
     "output_type": "execute_result"
    }
   ],
   "source": [
    "train['Burs Aldigi Baska Kurum'].isna().sum()"
   ]
  },
  {
   "cell_type": "code",
   "execution_count": 72,
   "id": "08222771-1880-4b42-b0f5-03788f17882c",
   "metadata": {},
   "outputs": [],
   "source": [
    "\n",
    "train['Burs Aldigi Baska Kurum'] = train['Burs Aldigi Baska Kurum'].fillna('-')"
   ]
  },
  {
   "cell_type": "code",
   "execution_count": 73,
   "id": "b35103e2-b4fa-41a2-aefa-e95016e23933",
   "metadata": {},
   "outputs": [
    {
     "data": {
      "text/plain": [
       "0"
      ]
     },
     "execution_count": 73,
     "metadata": {},
     "output_type": "execute_result"
    }
   ],
   "source": [
    "\n",
    "test['Burs Aldigi Baska Kurum'].isna().sum()"
   ]
  },
  {
   "cell_type": "code",
   "execution_count": 74,
   "id": "ca6b0cc6-bf74-4373-a2b8-a9971366f622",
   "metadata": {},
   "outputs": [],
   "source": [
    "train['Burs Aldigi Baska Kurum'] = train['Burs Aldigi Baska Kurum'].map(burs_mapping_train)"
   ]
  },
  {
   "cell_type": "code",
   "execution_count": 75,
   "id": "0501217e-439d-43a0-abb4-36fdda5afa27",
   "metadata": {},
   "outputs": [],
   "source": [
    "# simdi de farkli kurumlardan burs alan ogrencileri null olarak atadigindan onlara deger verelim\n",
    "train['Burs Aldigi Baska Kurum'] = train['Burs Aldigi Baska Kurum'].fillna('diger')"
   ]
  },
  {
   "cell_type": "code",
   "execution_count": 76,
   "id": "5e764549-c734-4299-8cbb-b388cc1b6d99",
   "metadata": {},
   "outputs": [],
   "source": [
    "test['Burs Aldigi Baska Kurum'] = test['Burs Aldigi Baska Kurum'].map(burs_mapping_test)"
   ]
  },
  {
   "cell_type": "code",
   "execution_count": 77,
   "id": "e7ef0e67-7a09-4b02-8283-030096843177",
   "metadata": {},
   "outputs": [],
   "source": [
    "# simdi de farkli kurumlardan burs alan ogrencileri null olarak atadigindan onlara deger verelim\n",
    "test['Burs Aldigi Baska Kurum'] = test['Burs Aldigi Baska Kurum'].fillna('diger')"
   ]
  },
  {
   "cell_type": "code",
   "execution_count": 78,
   "id": "f67ca0fb-3873-4ed8-908c-872f54366b4f",
   "metadata": {},
   "outputs": [
    {
     "data": {
      "text/plain": [
       "Burs Aldigi Baska Kurum\n",
       "-        6524\n",
       "diger    2275\n",
       "kyk      2250\n",
       "Name: count, dtype: int64"
      ]
     },
     "execution_count": 78,
     "metadata": {},
     "output_type": "execute_result"
    }
   ],
   "source": [
    "array = test['Burs Aldigi Baska Kurum'].value_counts()\n",
    "array = array[:30]\n",
    "array"
   ]
  },
  {
   "cell_type": "code",
   "execution_count": 79,
   "id": "0683d504-b85a-4258-ab07-9f705a1bbbff",
   "metadata": {},
   "outputs": [
    {
     "data": {
      "text/plain": [
       "Burs Aldigi Baska Kurum\n",
       "-        48688\n",
       "kyk      10208\n",
       "diger     6228\n",
       "Name: count, dtype: int64"
      ]
     },
     "execution_count": 79,
     "metadata": {},
     "output_type": "execute_result"
    }
   ],
   "source": [
    "burs_tops = []\n",
    "array = train['Burs Aldigi Baska Kurum'].value_counts()\n",
    "array = array[:30]\n",
    "array"
   ]
  },
  {
   "cell_type": "markdown",
   "id": "5b86b80a-674a-438c-bff5-8354b241b690",
   "metadata": {},
   "source": [
    "### Universite Sınıfı"
   ]
  },
  {
   "cell_type": "code",
   "execution_count": 80,
   "id": "9db22608-4155-4cb3-8523-fc78fe0fa694",
   "metadata": {},
   "outputs": [],
   "source": [
    "# test setinde boş değer ve mezun değerleri olmadığı için bunları dropluyorum\n",
    "# 370 tane null değeri de dropluyorum"
   ]
  },
  {
   "cell_type": "code",
   "execution_count": 81,
   "id": "b0102f86-02ad-4088-b108-de7c3b77ef15",
   "metadata": {},
   "outputs": [
    {
     "data": {
      "text/plain": [
       "(Universite Kacinci Sinif\n",
       " 2                21773\n",
       " 3                16956\n",
       " 4                13112\n",
       " 1                10260\n",
       " Hazırlık          1275\n",
       " 5                  961\n",
       " Mezun              178\n",
       " 6                  177\n",
       " hazırlık            33\n",
       " Yüksek Lisans       15\n",
       " Tez                  7\n",
       " 0                    3\n",
       " Name: count, dtype: int64,\n",
       " Universite Kacinci Sinif\n",
       " 2           3315\n",
       " 3           3039\n",
       " 4           2466\n",
       " 1           1803\n",
       " Hazırlık     233\n",
       " 5            164\n",
       " 6             29\n",
       " Name: count, dtype: int64)"
      ]
     },
     "execution_count": 81,
     "metadata": {},
     "output_type": "execute_result"
    }
   ],
   "source": [
    "train[\"Universite Kacinci Sinif\"].value_counts(),test[\"Universite Kacinci Sinif\"].value_counts()"
   ]
  },
  {
   "cell_type": "code",
   "execution_count": 82,
   "id": "d7339e07-8004-4e57-b018-36d8e9c97f76",
   "metadata": {},
   "outputs": [],
   "source": [
    "values_to_drop=[\"Mezun\",\"Yüksek Lisans\",\"Tez\",\"0\"]"
   ]
  },
  {
   "cell_type": "code",
   "execution_count": 83,
   "id": "b91ea342-8a51-497a-89c3-274a3bf0a40a",
   "metadata": {},
   "outputs": [],
   "source": [
    "indexes_to_drop = train[train['Universite Kacinci Sinif'].isin(values_to_drop)].index\n",
    "train = train.drop(indexes_to_drop)"
   ]
  },
  {
   "cell_type": "markdown",
   "id": "4e163a08-9f86-434d-991f-4a1b2cd43a75",
   "metadata": {},
   "source": [
    "### Doğum Yerlerini Düzenleyelim"
   ]
  },
  {
   "cell_type": "code",
   "execution_count": 84,
   "id": "91e10ac4-76eb-458b-8a65-e3d638b4c8d4",
   "metadata": {},
   "outputs": [],
   "source": [
    "# Test veri setindeki hakkari yi hakkâri yapalım\n",
    "test['Dogum Yeri'] = test[\"Dogum Yeri\"].replace('hakkari', 'hakkâri')"
   ]
  },
  {
   "cell_type": "code",
   "execution_count": 85,
   "id": "a6cb0d8b-5f67-492e-a42c-cff79a85e06e",
   "metadata": {},
   "outputs": [
    {
     "data": {
      "text/plain": [
       "il\n",
       "istanbul     39\n",
       "konya        31\n",
       "izmir        30\n",
       "ankara       25\n",
       "kastamonu    20\n",
       "             ..\n",
       "hakkâri       5\n",
       "ığdır         4\n",
       "bartın        4\n",
       "kilis         4\n",
       "bayburt       3\n",
       "Name: count, Length: 81, dtype: int64"
      ]
     },
     "execution_count": 85,
     "metadata": {},
     "output_type": "execute_result"
    }
   ],
   "source": [
    "# il ilce veri setini koyalım\n",
    "il_ilce=pd.read_csv(\"data/il_ilce.csv\")\n",
    "il_ilce.il=il_ilce.il.apply(turkish_lowercase)\n",
    "il_ilce.ilce=il_ilce.ilce.apply(turkish_lowercase)\n",
    "il_ilce.il.value_counts()"
   ]
  },
  {
   "cell_type": "code",
   "execution_count": 86,
   "id": "138d9fc8-8d95-4f60-8479-848d93025365",
   "metadata": {},
   "outputs": [],
   "source": [
    "dogum_yeri=train[\"Dogum Yeri\"]"
   ]
  },
  {
   "cell_type": "code",
   "execution_count": 87,
   "id": "4371dc7e-4f47-49c2-97c9-6ad479374e9b",
   "metadata": {},
   "outputs": [],
   "source": [
    "# re modulu ile stringelre ayıralım\n",
    "import re\n",
    "a=\"altindag/ankara sakarya\"\n",
    "result = re.split(r'[ ,/-]', a)"
   ]
  },
  {
   "cell_type": "code",
   "execution_count": 88,
   "id": "852d050e-294b-4ec5-b060-3828b1eb9797",
   "metadata": {},
   "outputs": [],
   "source": [
    "# il ilce veri setini {sehir:ilçeler} olacak şekilde bir dictionarye dönüştürelim\n",
    "city_district_dict = il_ilce.groupby('il')['ilce'].apply(list).to_dict()\n"
   ]
  },
  {
   "cell_type": "code",
   "execution_count": 89,
   "id": "997ebc23-7c69-4afb-9b32-f2c61701572d",
   "metadata": {},
   "outputs": [],
   "source": [
    "def convert_city(data):\n",
    "    sehirler=[]\n",
    "    for k in data:\n",
    "        appended=False\n",
    "        result = re.split(r'[ ,/-]', k)\n",
    "        for i in result:\n",
    "            if appended==True:\n",
    "                break\n",
    "            for il,ilce in city_district_dict.items():\n",
    "                if i == il:\n",
    "                    sehirler.append(il)\n",
    "                    appended=True\n",
    "                    break\n",
    "                elif i in ilce:\n",
    "                    sehirler.append(il)\n",
    "                    appended=True\n",
    "                    break\n",
    "        if appended==False:\n",
    "            sehirler.append(\"Diger\")\n",
    "            append=True\n",
    "    return sehirler"
   ]
  },
  {
   "cell_type": "code",
   "execution_count": 90,
   "id": "c9dfd482-b18e-4226-ad06-5fdbe1a66666",
   "metadata": {},
   "outputs": [
    {
     "data": {
      "text/plain": [
       "64921"
      ]
     },
     "execution_count": 90,
     "metadata": {},
     "output_type": "execute_result"
    }
   ],
   "source": [
    "len(convert_city(dogum_yeri))"
   ]
  },
  {
   "cell_type": "code",
   "execution_count": 91,
   "id": "21106fd8-c58b-4e69-9e81-7f119c29f8b7",
   "metadata": {},
   "outputs": [],
   "source": [
    "train[\"Dogum Yeri\"]=convert_city(dogum_yeri)"
   ]
  },
  {
   "cell_type": "code",
   "execution_count": 92,
   "id": "90694787-4f15-4d7c-9ee5-78ee3a4cfffc",
   "metadata": {},
   "outputs": [
    {
     "data": {
      "text/plain": [
       "0         ankara\n",
       "1       istanbul\n",
       "2         samsun\n",
       "3     diyarbakır\n",
       "4         ankara\n",
       "5       istanbul\n",
       "6       istanbul\n",
       "7       istanbul\n",
       "8       erzincan\n",
       "9          sivas\n",
       "10       kayseri\n",
       "11          uşak\n",
       "12          rize\n",
       "13        ankara\n",
       "14      adıyaman\n",
       "15       erzurum\n",
       "16         Diger\n",
       "17         konya\n",
       "18         izmir\n",
       "19       trabzon\n",
       "20          kars\n",
       "21      kırşehir\n",
       "22      istanbul\n",
       "23         adana\n",
       "24         izmir\n",
       "25      istanbul\n",
       "26        ankara\n",
       "27         adana\n",
       "28         adana\n",
       "29      istanbul\n",
       "30       sakarya\n",
       "31      istanbul\n",
       "32         adana\n",
       "33        ankara\n",
       "34        ankara\n",
       "35         muğla\n",
       "36          kars\n",
       "37         hatay\n",
       "38         Diger\n",
       "39         izmir\n",
       "Name: Dogum Yeri, dtype: object"
      ]
     },
     "execution_count": 92,
     "metadata": {},
     "output_type": "execute_result"
    }
   ],
   "source": [
    "train[\"Dogum Yeri\"].head(40)"
   ]
  },
  {
   "cell_type": "code",
   "execution_count": 93,
   "id": "16ca7fd3-3ade-4c66-a45e-5d9ca9ce533c",
   "metadata": {},
   "outputs": [
    {
     "data": {
      "text/plain": [
       "Dogum Yeri\n",
       "istanbul     9520\n",
       "Diger        6355\n",
       "ankara       4347\n",
       "izmir        2424\n",
       "bursa        1968\n",
       "             ... \n",
       "çankırı        99\n",
       "gümüşhane      84\n",
       "bayburt        79\n",
       "hakkâri        78\n",
       "tunceli        57\n",
       "Name: count, Length: 82, dtype: int64"
      ]
     },
     "execution_count": 93,
     "metadata": {},
     "output_type": "execute_result"
    }
   ],
   "source": [
    "train[\"Dogum Yeri\"].value_counts()"
   ]
  },
  {
   "cell_type": "markdown",
   "id": "ea9c5f17-541f-4bf2-be85-e1222ce5fd7f",
   "metadata": {},
   "source": [
    "### ikametgah düzenleyelim"
   ]
  },
  {
   "cell_type": "code",
   "execution_count": 94,
   "id": "2eb5b054-428d-46c3-b86a-f703bc5b06d0",
   "metadata": {},
   "outputs": [],
   "source": [
    "train[\"Ikametgah Sehri\"]=train[\"Ikametgah Sehri\"].fillna(\"missing\")"
   ]
  },
  {
   "cell_type": "code",
   "execution_count": 95,
   "id": "accba7c8-4320-4039-ad97-c537068b638c",
   "metadata": {},
   "outputs": [
    {
     "data": {
      "text/plain": [
       "0              ankara\n",
       "1            istanbul\n",
       "2            istanbul\n",
       "3            istanbul\n",
       "4              ankara\n",
       "5            istanbul\n",
       "6            istanbul\n",
       "7            istanbul\n",
       "8    esenler/istanbul\n",
       "9            istanbul\n",
       "Name: Ikametgah Sehri, dtype: object"
      ]
     },
     "execution_count": 95,
     "metadata": {},
     "output_type": "execute_result"
    }
   ],
   "source": [
    "ikametgah=train[\"Ikametgah Sehri\"]\n",
    "ikametgah.str.lower()\n",
    "ikametgah[:10]"
   ]
  },
  {
   "cell_type": "code",
   "execution_count": 96,
   "id": "f9c89bd4-3fec-470e-b4f4-ccb9c6aca159",
   "metadata": {},
   "outputs": [
    {
     "data": {
      "text/plain": [
       "0          ankara\n",
       "1        istanbul\n",
       "2        istanbul\n",
       "3        istanbul\n",
       "4          ankara\n",
       "           ...   \n",
       "65119       izmir\n",
       "65120    istanbul\n",
       "65121       muğla\n",
       "65122      mersin\n",
       "65123      samsun\n",
       "Name: Ikametgah Sehri, Length: 64921, dtype: object"
      ]
     },
     "execution_count": 96,
     "metadata": {},
     "output_type": "execute_result"
    }
   ],
   "source": [
    "train[\"Ikametgah Sehri\"]=convert_city(ikametgah)\n",
    "train[\"Ikametgah Sehri\"]"
   ]
  },
  {
   "cell_type": "code",
   "execution_count": 97,
   "id": "b74d5678-07da-4ebb-ab95-e027808ae2c4",
   "metadata": {},
   "outputs": [
    {
     "data": {
      "text/plain": [
       "Ikametgah Sehri\n",
       "istanbul    16686\n",
       "Diger        7880\n",
       "ankara       6580\n",
       "izmir        3153\n",
       "bursa        1786\n",
       "            ...  \n",
       "kilis          59\n",
       "artvin         57\n",
       "çankırı        49\n",
       "ardahan        34\n",
       "hakkâri        29\n",
       "Name: count, Length: 82, dtype: int64"
      ]
     },
     "execution_count": 97,
     "metadata": {},
     "output_type": "execute_result"
    }
   ],
   "source": [
    "train[\"Ikametgah Sehri\"].value_counts()"
   ]
  },
  {
   "cell_type": "markdown",
   "id": "5c2e30b3-a719-4d2c-a434-468485b65674",
   "metadata": {},
   "source": [
    "### Kardeş sayısını düzenleme"
   ]
  },
  {
   "cell_type": "code",
   "execution_count": 98,
   "id": "3af36df6-a113-4526-8a7f-a5e2be4a4950",
   "metadata": {},
   "outputs": [
    {
     "data": {
      "text/plain": [
       "Kardes Sayisi\n",
       "1.0                                             16186\n",
       "2.0                                             13061\n",
       "3.0                                              6734\n",
       "1                                                5990\n",
       "4.0                                              4611\n",
       "2                                                3895\n",
       "0.0                                              3701\n",
       "5.0                                              3421\n",
       "3                                                2054\n",
       "0                                                1373\n",
       "4                                                 980\n",
       "5                                                 708\n",
       "6.0                                               206\n",
       "7.0                                               159\n",
       "6                                                 132\n",
       "10.0                                              127\n",
       "7                                                 117\n",
       "8.0                                                98\n",
       "9.0                                                79\n",
       "8                                                  72\n",
       "9                                                  42\n",
       "10                                                 40\n",
       "11                                                 11\n",
       "12                                                  5\n",
       "13                                                  2\n",
       "14                                                  1\n",
       "18                                                  1\n",
       "Kardeş Sayısı 1 Ek Bilgi Aile Hk. Anne Vefat        1\n",
       "Name: count, dtype: int64"
      ]
     },
     "execution_count": 98,
     "metadata": {},
     "output_type": "execute_result"
    }
   ],
   "source": [
    "train[\"Kardes Sayisi\"].value_counts()\n",
    "# çoğu değer 1 o yüzden boş değerleri 1 ile dolduracağım."
   ]
  },
  {
   "cell_type": "code",
   "execution_count": 99,
   "id": "340d1aa8-fcc5-4bb4-a9c6-4a75d6c5f65a",
   "metadata": {},
   "outputs": [],
   "source": [
    "train[\"Kardes Sayisi\"]=train[\"Kardes Sayisi\"].fillna(\"1\")"
   ]
  },
  {
   "cell_type": "code",
   "execution_count": 100,
   "id": "1967df36-b4c5-4fc0-87da-f975e44bd5d1",
   "metadata": {},
   "outputs": [],
   "source": [
    "train=train.drop(14372)"
   ]
  },
  {
   "cell_type": "code",
   "execution_count": 101,
   "id": "92ad5fd8-8ea9-440a-b1ff-bf93d78b314d",
   "metadata": {},
   "outputs": [
    {
     "data": {
      "text/plain": [
       "0          1\n",
       "1          1\n",
       "2          6\n",
       "3         10\n",
       "4          1\n",
       "        ... \n",
       "65119    1.0\n",
       "65120    4.0\n",
       "65121    4.0\n",
       "65122    3.0\n",
       "65123    2.0\n",
       "Name: Kardes Sayisi, Length: 64920, dtype: object"
      ]
     },
     "execution_count": 101,
     "metadata": {},
     "output_type": "execute_result"
    }
   ],
   "source": [
    "train[\"Kardes Sayisi\"]"
   ]
  },
  {
   "cell_type": "code",
   "execution_count": 102,
   "id": "5ee96c00-c018-43a0-b08c-0de7802a7047",
   "metadata": {},
   "outputs": [],
   "source": [
    "kardes_sayisi = [int(float(item)) for item in train[\"Kardes Sayisi\"]]\n",
    "train[\"Kardes Sayisi\"]=kardes_sayisi"
   ]
  },
  {
   "cell_type": "code",
   "execution_count": 103,
   "id": "6605d4a9-3f17-4aba-8afb-fc5e1cebf31e",
   "metadata": {},
   "outputs": [
    {
     "data": {
      "text/plain": [
       "Kardes Sayisi\n",
       "1     23290\n",
       "2     16956\n",
       "3      8788\n",
       "4      5591\n",
       "0      5074\n",
       "5      4129\n",
       "6       338\n",
       "7       276\n",
       "8       170\n",
       "10      167\n",
       "9       121\n",
       "11       11\n",
       "12        5\n",
       "13        2\n",
       "18        1\n",
       "14        1\n",
       "Name: count, dtype: int64"
      ]
     },
     "execution_count": 103,
     "metadata": {},
     "output_type": "execute_result"
    }
   ],
   "source": [
    "train[\"Kardes Sayisi\"].value_counts()"
   ]
  },
  {
   "cell_type": "code",
   "execution_count": 104,
   "id": "f1744cf9-294e-44b5-b659-08eb4b606a1a",
   "metadata": {},
   "outputs": [
    {
     "data": {
      "text/plain": [
       "Kardes Sayisi\n",
       "1.0    3612\n",
       "2.0    2821\n",
       "4.0    2421\n",
       "3.0    1490\n",
       "0.0     705\n",
       "Name: count, dtype: int64"
      ]
     },
     "execution_count": 104,
     "metadata": {},
     "output_type": "execute_result"
    }
   ],
   "source": [
    "test[\"Kardes Sayisi\"].value_counts()"
   ]
  },
  {
   "cell_type": "markdown",
   "id": "852dc126-001e-4335-9ce2-897da08a3e3b",
   "metadata": {},
   "source": [
    "### Tarihleri Düzeneleyim Ve Yaş kolonu Oluşturalım"
   ]
  },
  {
   "cell_type": "markdown",
   "id": "8a3bc094-2c06-4e80-955e-0ded5c173b6a",
   "metadata": {},
   "source": [
    "1. G/A/Y >>> 23/5/2020\n",
    "2. G Kasim Y >>> 23 5 2020\n",
    "3. G-Jun-Y(93) >>> 23-Jun-99\n",
    "4. Y-A-G >>> 2020-5-23\n",
    "5. G/A/Y(99) 0:00 >>> 23/5/99 0:00\n",
    "6. G.A.Y(2000) 00:00 >>> 23.5.2000 00:00\n",
    "* The TEST\n",
    "1. G/A/Y(2004) 00:00 >>> 23.5.2000 00:00"
   ]
  },
  {
   "cell_type": "code",
   "execution_count": 105,
   "id": "7c922cbb-80ac-41a4-a083-487749581ced",
   "metadata": {},
   "outputs": [
    {
     "data": {
      "text/plain": [
       "177"
      ]
     },
     "execution_count": 105,
     "metadata": {},
     "output_type": "execute_result"
    }
   ],
   "source": [
    "train['Dogum Tarihi'].isna().sum()"
   ]
  },
  {
   "cell_type": "code",
   "execution_count": 106,
   "id": "4a03e5bc-7fb5-459d-a846-00a6aadce1ef",
   "metadata": {},
   "outputs": [],
   "source": [
    "\n",
    "train['Dogum Tarihi'] = train['Dogum Tarihi'].fillna('missing')"
   ]
  },
  {
   "cell_type": "code",
   "execution_count": 107,
   "id": "d89ab7bf-59ea-42a4-a5ee-1ddc58399d5b",
   "metadata": {},
   "outputs": [],
   "source": [
    "def drop_sifirlar(df):\n",
    "    dropped_sifirlar = []\n",
    "    for label in df['Dogum Tarihi']:\n",
    "        if type(label) == 'float':\n",
    "            label = 'missing'\n",
    "            \n",
    "        else:\n",
    "            result = re.split(r'[ ]',label)   \n",
    "            if len(result) == 2:\n",
    "               label = result[0]\n",
    "        \n",
    "        dropped_sifirlar.append(label)\n",
    "            \n",
    "    df['Dogum Tarihi'] = dropped_sifirlar\n",
    "  \n",
    "drop_sifirlar(train)"
   ]
  },
  {
   "cell_type": "code",
   "execution_count": 108,
   "id": "c55e8488-a892-4498-8964-483c0687d18d",
   "metadata": {},
   "outputs": [
    {
     "data": {
      "text/plain": [
       "(82, 64838)"
      ]
     },
     "execution_count": 108,
     "metadata": {},
     "output_type": "execute_result"
    }
   ],
   "source": [
    "def kisa_cizgi_at(df):\n",
    "    # Use str.contains to find all indexes where 'Dogum Tarihi' contains '_'\n",
    "    indeksler = df[df['Dogum Tarihi'].str.contains('_', na=False)].index.tolist()\n",
    "    return indeksler\n",
    "\n",
    "sil_indexs = kisa_cizgi_at(train)\n",
    "train = train.drop(sil_indexs)\n",
    "len(sil_indexs), len(train)"
   ]
  },
  {
   "cell_type": "code",
   "execution_count": 109,
   "id": "84f3cc27-4c25-4a50-a6fc-2fb91a331a39",
   "metadata": {},
   "outputs": [],
   "source": [
    "def sifirsizlari_yila_cevir(df):\n",
    "    yillar = []\n",
    "    for label in df['Dogum Tarihi']:    \n",
    "        result = re.split(r'[ /\\-.]', label)\n",
    "        lengt_bool = len(result) == 3\n",
    "        if lengt_bool:\n",
    "            if int(result[0]) > 35:\n",
    "                yillar.append(result[0])\n",
    "            elif int(result[2]) > 150:\n",
    "                yillar.append(result[2])\n",
    "            elif int(result[2]) < 150:\n",
    "                if int(result[2]) > 50:\n",
    "                    yillar.append('19' + result[2])\n",
    "                elif int(result[2]) < 50:\n",
    "                    yillar.append('20' + result[2])\n",
    "                else:\n",
    "                    yillar.append('unknown 2 digit')\n",
    "    \n",
    "            else: \n",
    "                yillar.append('unknown')\n",
    "        else:\n",
    "            yillar.append('unknown_notdigit')\n",
    "\n",
    "    df['Dogum Tarihi'] = yillar\n",
    "\n",
    "sifirsizlari_yila_cevir(train)"
   ]
  },
  {
   "cell_type": "code",
   "execution_count": 110,
   "id": "5de45f03-5eb7-4d78-a722-386f4910687a",
   "metadata": {},
   "outputs": [
    {
     "data": {
      "text/plain": [
       "array(['unknown_notdigit', '1989', '1988', '1987', '2016', '2004', '1986',\n",
       "       '2017', '2020', '2005', '1197', '1985', '1196', '1980', '1984',\n",
       "       '1976', '1983', '1199', '2011', '1195', '9691', '1977', '9951',\n",
       "       '2009', '0808', '1198', '9590', '1155', '1204', '7199', '5778',\n",
       "       '2006', '0328', '1896', '9916', '1979', '1888', '1944', '1895',\n",
       "       '1262', '1933', '1194', '0996', '2015', '0194', '2021', '9941',\n",
       "       '2996', '1929', '1981'], dtype=object)"
      ]
     },
     "execution_count": 110,
     "metadata": {},
     "output_type": "execute_result"
    }
   ],
   "source": [
    "array1 = train['Dogum Tarihi'].value_counts()\n",
    "# En az olanlari atmak icin sondakileri aldik arraya\n",
    "array1 = array1[15:]\n",
    "array1 = np.array(array1.keys())\n",
    "# arrayden 55 ve 99 u cikaralim. Aratirken hata firlatiyor.\n",
    "array1 = np.delete(array1, np.where(array1 == '55'))\n",
    "array1 = np.delete(array1, np.where(array1 == '99'))\n",
    "array1"
   ]
  },
  {
   "cell_type": "code",
   "execution_count": 111,
   "id": "28842ee6-45a7-4131-80ca-1582d726c924",
   "metadata": {},
   "outputs": [],
   "source": [
    "# Yanlis veya aykiri olan tarihleri attik\n",
    "def yanlis_tarihleri_at(df, tarih):\n",
    "    indeksler = df[df['Dogum Tarihi'].str.contains(tarih, na=False, regex=False)].index.tolist()\n",
    "        \n",
    "    return indeksler"
   ]
  },
  {
   "cell_type": "code",
   "execution_count": 112,
   "id": "587bec06-0d96-43c3-9f46-bbf9653c166b",
   "metadata": {},
   "outputs": [
    {
     "data": {
      "text/plain": [
       "463"
      ]
     },
     "execution_count": 112,
     "metadata": {},
     "output_type": "execute_result"
    }
   ],
   "source": [
    "silinecek_indeksler = []\n",
    "for label in array1:\n",
    "    indeksler = yanlis_tarihleri_at(train, label)\n",
    "    silinecek_indeksler += indeksler\n",
    "\n",
    "len(silinecek_indeksler)"
   ]
  },
  {
   "cell_type": "code",
   "execution_count": 113,
   "id": "f609ec15-bf45-462f-9d49-6889ea91605e",
   "metadata": {},
   "outputs": [],
   "source": [
    "# Silinecekleri sildik\n",
    "train = train.drop(silinecek_indeksler)"
   ]
  },
  {
   "cell_type": "code",
   "execution_count": 114,
   "id": "f9252ca2-e24b-4af0-a4b2-e4dc33f7a34c",
   "metadata": {},
   "outputs": [],
   "source": [
    "array = train['Dogum Tarihi'].value_counts()"
   ]
  },
  {
   "cell_type": "code",
   "execution_count": 115,
   "id": "1e0d7be1-d16a-4572-8a43-6e52b2114ac7",
   "metadata": {},
   "outputs": [
    {
     "data": {
      "text/plain": [
       "Basvuru Yili\n",
       "2021    11499\n",
       "2017    10191\n",
       "2015     7800\n",
       "2020     7675\n",
       "2022     7599\n",
       "2019     7200\n",
       "2014     6124\n",
       "2016     5185\n",
       "2018     1102\n",
       "Name: count, dtype: int64"
      ]
     },
     "execution_count": 115,
     "metadata": {},
     "output_type": "execute_result"
    }
   ],
   "source": [
    "train['Basvuru Yili'].value_counts()"
   ]
  },
  {
   "cell_type": "code",
   "execution_count": 116,
   "id": "eca55364-77e8-4ae7-a862-6d6cbcb6826e",
   "metadata": {},
   "outputs": [],
   "source": [
    "train['Basvuru Yili'] = train['Basvuru Yili'].astype('int')\n",
    "train['Dogum Tarihi'] = train['Dogum Tarihi'].astype('int')\n",
    "train['Yas'] = train['Basvuru Yili'] - train['Dogum Tarihi']"
   ]
  },
  {
   "cell_type": "code",
   "execution_count": 117,
   "id": "28dd645d-a558-4a56-932e-71797c731ddc",
   "metadata": {},
   "outputs": [
    {
     "data": {
      "text/plain": [
       "Yas\n",
       "21      15741\n",
       "20      15031\n",
       "22      12442\n",
       "19       8078\n",
       "23       7073\n",
       "24       3032\n",
       "50       1104\n",
       "25        710\n",
       "51        565\n",
       "18        378\n",
       "26         77\n",
       "44         44\n",
       "17         43\n",
       "27         28\n",
       "28         10\n",
       "30          7\n",
       "29          4\n",
       "45          2\n",
       "31          2\n",
       "14          1\n",
       "16          1\n",
       "1918        1\n",
       "1964        1\n",
       "Name: count, dtype: int64"
      ]
     },
     "execution_count": 117,
     "metadata": {},
     "output_type": "execute_result"
    }
   ],
   "source": [
    "train['Yas'].value_counts()"
   ]
  },
  {
   "cell_type": "code",
   "execution_count": 118,
   "id": "7bd574cc-fff0-4e64-aac4-00664cf548e8",
   "metadata": {},
   "outputs": [],
   "source": [
    "values_to_drop=[1964, 1918, 16, 14, 31, 45, 29, 30, 28, 27, 17, 44, 26]\n",
    "indexes_to_drop = train[train['Yas'].isin(values_to_drop)].index\n",
    "\n",
    "train = train.drop(indexes_to_drop)"
   ]
  },
  {
   "cell_type": "markdown",
   "id": "37197979-1923-4225-b4ab-9376ca529c21",
   "metadata": {},
   "source": [
    "### Trainde datadaki null değerleri düzenleyelim"
   ]
  },
  {
   "cell_type": "markdown",
   "id": "fd4f1663-d230-4f5a-888a-51629511caf9",
   "metadata": {},
   "source": [
    "1. Eğer null valulerımız fazla değilse ve test datasında null value yoksa, null değerleri silelim\n",
    "2. Eğer null valulerımız fazla ise ve test datasında null value yoksa, null değerleri en fazla değer ile dolduralım\n",
    "3. Eğer null valulerımız fazla ise ve test datasında null valuelar varsa ve onlar '-' olarak doldurulduysa , null değerleri '-' ile dolduralım'"
   ]
  },
  {
   "cell_type": "code",
   "execution_count": 119,
   "id": "8c8c8d97-88ed-4003-9a97-6a5622133dd0",
   "metadata": {},
   "outputs": [],
   "source": [
    "# 300 civarı null değer olduğu için null değerleri dropladım\n",
    "train=train.dropna(subset=['Baska Bir Kurumdan Burs Aliyor mu?'])\n",
    "train=train.dropna(subset=['Anne Egitim Durumu'])\n",
    "train=train.dropna(subset=['Baba Egitim Durumu'])\n",
    "train=train.dropna(subset=['Universite Kacinci Sinif'])\n",
    "train=train.dropna(subset=['Profesyonel Bir Spor Daliyla Mesgul musunuz?'])\n"
   ]
  },
  {
   "cell_type": "code",
   "execution_count": 120,
   "id": "1390b4ec-d2c9-47d9-a8bd-dbdf98cb4152",
   "metadata": {},
   "outputs": [],
   "source": [
    "# null degeri fazla en fazla değer ile dolduralım\n",
    "train[\"Anne Calisma Durumu\"]=train[\"Anne Calisma Durumu\"].fillna(\"Hayır\")\n",
    "train['Lise Mezuniyet Notu'] = train['Lise Mezuniyet Notu'].fillna(\"75-100\")\n",
    "train[\"Girisimcilik Kulupleri Tarzi Bir Kulube Uye misiniz?\"]=train[\"Girisimcilik Kulupleri Tarzi Bir Kulube Uye misiniz?\"].fillna(\"Hayır\")\n",
    "train[\"Ingilizce Biliyor musunuz?\"]=train[\"Ingilizce Biliyor musunuz?\"].fillna(\"Evet\")"
   ]
  },
  {
   "cell_type": "code",
   "execution_count": 121,
   "id": "05c5bdf4-b02d-414e-8f04-270c2d84888c",
   "metadata": {},
   "outputs": [],
   "source": [
    "# test datasında null değerler - ile belirtilmis\n",
    "train[\"Spor Dalindaki Rolunuz Nedir?\"]=train[\"Spor Dalindaki Rolunuz Nedir?\"].fillna(\"-\")"
   ]
  },
  {
   "cell_type": "markdown",
   "id": "7cbd4e91-946e-4bf2-b9d4-d9cfb233c315",
   "metadata": {},
   "source": [
    "### Traindeki '-' Degerleri Duzenleyelim"
   ]
  },
  {
   "cell_type": "markdown",
   "id": "e9caee29-8d67-4c63-a589-a948c37bc587",
   "metadata": {},
   "source": [
    "Basta Lower case yaparken null degerleri '-' ile doldurduk. Bunları test datası ile uyumlu olması için düzenleyelim"
   ]
  },
  {
   "cell_type": "code",
   "execution_count": 122,
   "id": "9c0d63f1-6efc-4fe4-81f7-67cbdefd355e",
   "metadata": {},
   "outputs": [
    {
     "data": {
      "text/plain": [
       "(Universite Turu\n",
       " devlet    51178\n",
       " özel      11171\n",
       " -           156\n",
       " Name: count, dtype: int64,\n",
       " Universite Turu\n",
       " devlet    9215\n",
       " özel      1834\n",
       " Name: count, dtype: int64)"
      ]
     },
     "execution_count": 122,
     "metadata": {},
     "output_type": "execute_result"
    }
   ],
   "source": [
    "train[\"Universite Turu\"].value_counts(),test[\"Universite Turu\"].value_counts()"
   ]
  },
  {
   "cell_type": "code",
   "execution_count": 123,
   "id": "02217003-9d1e-4e79-b91f-50fe3bf3a2c8",
   "metadata": {},
   "outputs": [
    {
     "name": "stdout",
     "output_type": "stream",
     "text": [
      "----Cinsiyet-----\n",
      "Eğitim veri setinde olup test veri setinde olmayan benzersiz değerler:\n",
      "{'-'}\n",
      "Test veri setinde olup eğitim veri setinde olmayan benzersiz değerler:\n",
      "set()\n",
      "----Universite Turu-----\n",
      "Eğitim veri setinde olup test veri setinde olmayan benzersiz değerler:\n",
      "{'-'}\n",
      "Test veri setinde olup eğitim veri setinde olmayan benzersiz değerler:\n",
      "set()\n",
      "----Burs Aliyor mu?-----\n",
      "Eğitim veri setinde olup test veri setinde olmayan benzersiz değerler:\n",
      "set()\n",
      "Test veri setinde olup eğitim veri setinde olmayan benzersiz değerler:\n",
      "set()\n",
      "----Burs Aldigi Baska Kurum-----\n",
      "Eğitim veri setinde olup test veri setinde olmayan benzersiz değerler:\n",
      "set()\n",
      "Test veri setinde olup eğitim veri setinde olmayan benzersiz değerler:\n",
      "set()\n",
      "----Anne Egitim Durumu-----\n",
      "Eğitim veri setinde olup test veri setinde olmayan benzersiz değerler:\n",
      "set()\n",
      "Test veri setinde olup eğitim veri setinde olmayan benzersiz değerler:\n",
      "set()\n",
      "----Anne Sektor-----\n",
      "Eğitim veri setinde olup test veri setinde olmayan benzersiz değerler:\n",
      "set()\n",
      "Test veri setinde olup eğitim veri setinde olmayan benzersiz değerler:\n",
      "set()\n",
      "----Baba Calisma Durumu-----\n",
      "Eğitim veri setinde olup test veri setinde olmayan benzersiz değerler:\n",
      "{'-', 'emekli'}\n",
      "Test veri setinde olup eğitim veri setinde olmayan benzersiz değerler:\n",
      "set()\n",
      "----Baba Sektor-----\n",
      "Eğitim veri setinde olup test veri setinde olmayan benzersiz değerler:\n",
      "set()\n",
      "Test veri setinde olup eğitim veri setinde olmayan benzersiz değerler:\n",
      "set()\n",
      "----Spor Dalindaki Rolunuz Nedir?-----\n",
      "Eğitim veri setinde olup test veri setinde olmayan benzersiz değerler:\n",
      "set()\n",
      "Test veri setinde olup eğitim veri setinde olmayan benzersiz değerler:\n",
      "set()\n",
      "----Dogum Yeri-----\n",
      "Eğitim veri setinde olup test veri setinde olmayan benzersiz değerler:\n",
      "{'Diger'}\n",
      "Test veri setinde olup eğitim veri setinde olmayan benzersiz değerler:\n",
      "{'yurt dışı', 'kktc'}\n",
      "----Baba Egitim Durumu-----\n",
      "Eğitim veri setinde olup test veri setinde olmayan benzersiz değerler:\n",
      "set()\n",
      "Test veri setinde olup eğitim veri setinde olmayan benzersiz değerler:\n",
      "set()\n"
     ]
    }
   ],
   "source": [
    "columns = ['Cinsiyet', 'Universite Turu', 'Burs Aliyor mu?', 'Burs Aldigi Baska Kurum', 'Anne Egitim Durumu',\n",
    "           'Anne Sektor', 'Baba Calisma Durumu', 'Baba Sektor', 'Spor Dalindaki Rolunuz Nedir?',\"Dogum Yeri\",\"Baba Egitim Durumu\"]\n",
    "for col in columns:\n",
    "    train_unique_values = train[col].unique()\n",
    "    test_unique_values = test[col].unique()\n",
    "    train_unique_set = set(train_unique_values)\n",
    "    test_unique_set = set(test_unique_values)\n",
    "    train_only = train_unique_set - test_unique_set\n",
    "    test_only = test_unique_set - train_unique_set\n",
    "    both = train_unique_set & test_unique_set\n",
    "    print(f\"----{col}-----\")\n",
    "    print(\"Eğitim veri setinde olup test veri setinde olmayan benzersiz değerler:\")\n",
    "    print(train_only)\n",
    "\n",
    "    print(\"Test veri setinde olup eğitim veri setinde olmayan benzersiz değerler:\")\n",
    "    print(test_only)\n"
   ]
  },
  {
   "cell_type": "code",
   "execution_count": 124,
   "id": "f1635716-8209-4fe3-a55c-e2622affec8d",
   "metadata": {},
   "outputs": [
    {
     "data": {
      "text/plain": [
       "Basvuru Yili                                                     0\n",
       "Degerlendirme Puani                                              0\n",
       "Cinsiyet                                                         0\n",
       "Dogum Tarihi                                                     0\n",
       "Dogum Yeri                                                       0\n",
       "Ikametgah Sehri                                                  0\n",
       "Universite Turu                                                  0\n",
       "Burs Aliyor mu?                                                  0\n",
       "Universite Kacinci Sinif                                         0\n",
       "Universite Not Ortalamasi                                        0\n",
       "Lise Sehir                                                       0\n",
       "Lise Mezuniyet Notu                                              0\n",
       "Baska Bir Kurumdan Burs Aliyor mu?                               0\n",
       "Burs Aldigi Baska Kurum                                          0\n",
       "Anne Egitim Durumu                                               0\n",
       "Anne Calisma Durumu                                              0\n",
       "Anne Sektor                                                      0\n",
       "Baba Egitim Durumu                                               0\n",
       "Baba Calisma Durumu                                              0\n",
       "Baba Sektor                                                      0\n",
       "Kardes Sayisi                                                    0\n",
       "Girisimcilik Kulupleri Tarzi Bir Kulube Uye misiniz?             0\n",
       "Profesyonel Bir Spor Daliyla Mesgul musunuz?                     0\n",
       "Spor Dalindaki Rolunuz Nedir?                                    0\n",
       "Aktif olarak bir STK üyesi misiniz?                          11498\n",
       "Hangi STK'nin Uyesisiniz?                                    47049\n",
       "Girisimcilikle Ilgili Deneyiminiz Var Mi?                    11524\n",
       "Girisimcilikle Ilgili Deneyiminizi Aciklayabilir misiniz?    48141\n",
       "Ingilizce Biliyor musunuz?                                       0\n",
       "id                                                               0\n",
       "Yas                                                              0\n",
       "dtype: int64"
      ]
     },
     "execution_count": 124,
     "metadata": {},
     "output_type": "execute_result"
    }
   ],
   "source": [
    "train.isna().sum()"
   ]
  },
  {
   "cell_type": "code",
   "execution_count": 125,
   "id": "2f5de775-965f-4eec-989c-9266c5e1b931",
   "metadata": {},
   "outputs": [
    {
     "data": {
      "text/plain": [
       "Girisimcilik Kulupleri Tarzi Bir Kulube Uye misiniz?\n",
       "Hayır    5940\n",
       "Evet     5109\n",
       "Name: count, dtype: int64"
      ]
     },
     "execution_count": 125,
     "metadata": {},
     "output_type": "execute_result"
    }
   ],
   "source": [
    "test[\"Girisimcilik Kulupleri Tarzi Bir Kulube Uye misiniz?\"].value_counts()"
   ]
  },
  {
   "cell_type": "code",
   "execution_count": 126,
   "id": "64cf3610-bfdf-438a-9f37-5423b4a163d3",
   "metadata": {},
   "outputs": [
    {
     "data": {
      "text/plain": [
       "Basvuru Yili                                                 0\n",
       "Cinsiyet                                                     0\n",
       "Dogum Tarihi                                                 0\n",
       "Dogum Yeri                                                   0\n",
       "Ikametgah Sehri                                              0\n",
       "Universite Turu                                              0\n",
       "Burs Aliyor mu?                                              0\n",
       "Universite Kacinci Sinif                                     0\n",
       "Universite Not Ortalamasi                                    0\n",
       "Lise Sehir                                                   0\n",
       "Lise Mezuniyet Notu                                          0\n",
       "Baska Bir Kurumdan Burs Aliyor mu?                           0\n",
       "Burs Aldigi Baska Kurum                                      0\n",
       "Anne Egitim Durumu                                           0\n",
       "Anne Calisma Durumu                                          0\n",
       "Anne Sektor                                                  0\n",
       "Baba Egitim Durumu                                           0\n",
       "Baba Calisma Durumu                                          0\n",
       "Baba Sektor                                                  0\n",
       "Kardes Sayisi                                                0\n",
       "Girisimcilik Kulupleri Tarzi Bir Kulube Uye misiniz?         0\n",
       "Profesyonel Bir Spor Daliyla Mesgul musunuz?                 0\n",
       "Spor Dalindaki Rolunuz Nedir?                                0\n",
       "Aktif olarak bir STK üyesi misiniz?                          0\n",
       "Hangi STK'nin Uyesisiniz?                                    0\n",
       "Girisimcilikle Ilgili Deneyiminiz Var Mi?                    0\n",
       "Girisimcilikle Ilgili Deneyiminizi Aciklayabilir misiniz?    0\n",
       "Ingilizce Biliyor musunuz?                                   0\n",
       "id                                                           0\n",
       "dtype: int64"
      ]
     },
     "execution_count": 126,
     "metadata": {},
     "output_type": "execute_result"
    }
   ],
   "source": [
    "test.isna().sum()"
   ]
  },
  {
   "cell_type": "code",
   "execution_count": 127,
   "id": "7687f654-ab98-4fe1-87e3-618dc706f1d7",
   "metadata": {},
   "outputs": [],
   "source": [
    "train.to_csv('data/train_ayarlanmis.csv',index=False)"
   ]
  },
  {
   "cell_type": "markdown",
   "id": "f8bcbb8e-39b9-4ddb-9ab6-34f8652d24a6",
   "metadata": {},
   "source": [
    "### Grafikleri Çıkartalım"
   ]
  },
  {
   "cell_type": "code",
   "execution_count": null,
   "id": "458059f3-e94d-4629-ab08-0cf54aa5742a",
   "metadata": {},
   "outputs": [],
   "source": [
    "plt.figure(figsize=(40,40))\n",
    "k=1\n",
    "for i in box_plot_columns:\n",
    "    ax=plt.subplot(5,4,k)\n",
    "    k+=1\n",
    "    ax=sns.boxplot(data=train,x=i,y=\"Degerlendirme Puani\",linewidth=3)\n",
    "    plt.title(f\"{i}-Degerlendirme Puanı\",fontsize=15)\n",
    "    plt.xticks(rotation=90,fontsize=15);"
   ]
  },
  {
   "cell_type": "code",
   "execution_count": null,
   "id": "2f75d087-64de-4a5a-be51-dc6c4bd45060",
   "metadata": {},
   "outputs": [],
   "source": [
    "mean_values = train.groupby('Yas')['Degerlendirme Puani'].mean().reset_index()\n",
    "mean_values"
   ]
  },
  {
   "cell_type": "code",
   "execution_count": null,
   "id": "ac2b4270-6324-47d9-9550-7ad3c38e4448",
   "metadata": {},
   "outputs": [],
   "source": [
    "mean_values.plot(x=\"Yas\",y=\"Degerlendirme Puani\")"
   ]
  },
  {
   "cell_type": "code",
   "execution_count": null,
   "id": "13db7276-110f-41cc-832e-8c45a14070bd",
   "metadata": {},
   "outputs": [],
   "source": [
    "train.Yas.value_counts()"
   ]
  },
  {
   "cell_type": "code",
   "execution_count": null,
   "id": "f302db72-2aed-4e4e-9e7e-f275528953d3",
   "metadata": {},
   "outputs": [],
   "source": [
    "test[\"Girisimcilik Kulupleri Tarzi Bir Kulube Uye misiniz?\"].value_counts()"
   ]
  },
  {
   "cell_type": "markdown",
   "id": "97324973-924d-4d5d-902c-ea397d804901",
   "metadata": {},
   "source": [
    "#### Bazı Outliersleri Kaldıralım"
   ]
  },
  {
   "cell_type": "code",
   "execution_count": null,
   "id": "13f3f8de-3364-4a52-a239-4a56deb13501",
   "metadata": {},
   "outputs": [],
   "source": [
    "\"\"\"\n",
    "def detect_outliers(df,columns):\n",
    "    for column in columns:\n",
    "        for var in df[column].unique():\n",
    "            print(var)\n",
    "            if type(var)!=float:\n",
    "                selected_var=df[\"Degerlendirme Puani\"][df[column]==var]\n",
    "                q1 = np.percentile(selected_var,25) # 1.çeyrek = %25\n",
    "                q3 = np.percentile(selected_var,75) # 3.çeyrek = %75\n",
    "                IQR = q3-q1\n",
    "                maximum=q3+(1.5*IQR)\n",
    "                print(column,var, \"max=\",maximum)\n",
    "\n",
    "Missing Valueler doldurulduktan sonra uygulanacak\n",
    " \"\"\"   "
   ]
  },
  {
   "cell_type": "code",
   "execution_count": null,
   "id": "55f06349-5e06-4238-bc81-7e1d2452d928",
   "metadata": {},
   "outputs": [],
   "source": [
    "train[\"Ingilizce Biliyor musunuz?\"].value_counts()"
   ]
  },
  {
   "cell_type": "code",
   "execution_count": null,
   "id": "abccd3f9-ed46-4270-a4e5-fe5bf618028f",
   "metadata": {},
   "outputs": [],
   "source": [
    "train[\"Anne Egitim Durumu\"].value_counts()"
   ]
  },
  {
   "cell_type": "code",
   "execution_count": null,
   "id": "d4041d15-c89a-48d2-9231-ef74af0a7f82",
   "metadata": {},
   "outputs": [],
   "source": []
  }
 ],
 "metadata": {
  "kernelspec": {
   "display_name": "Python 3 (ipykernel)",
   "language": "python",
   "name": "python3"
  },
  "language_info": {
   "codemirror_mode": {
    "name": "ipython",
    "version": 3
   },
   "file_extension": ".py",
   "mimetype": "text/x-python",
   "name": "python",
   "nbconvert_exporter": "python",
   "pygments_lexer": "ipython3",
   "version": "3.12.4"
  }
 },
 "nbformat": 4,
 "nbformat_minor": 5
}
