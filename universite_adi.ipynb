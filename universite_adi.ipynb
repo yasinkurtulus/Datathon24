{
 "cells": [
  {
   "cell_type": "raw",
   "id": "5dd4176e-4f93-4806-af15-8fa5d8e6b583",
   "metadata": {},
   "source": [
    "import pandas as pd\n",
    "import numpy as np\n",
    "import matplotib.pyplot as plt"
   ]
  },
  {
   "cell_type": "code",
   "execution_count": 27,
   "id": "f824ac41-63d1-4397-8693-3edb76dd8a6a",
   "metadata": {},
   "outputs": [],
   "source": [
    "# Bu method verilerimizi düzgün bir biçimde lower case yapacak\n",
    "def turkish_lowercase(text):\n",
    "    replacements = {\n",
    "        'İ': 'i',\n",
    "        'I': 'ı',\n",
    "        'Ş': 'ş',\n",
    "        'Ç': 'ç',\n",
    "        'Ğ': 'ğ',\n",
    "        'Ö': 'ö',\n",
    "        'Ü': 'ü',\n",
    "        'ı': 'ı',\n",
    "        'ş': 'ş',\n",
    "        'ç': 'ç',\n",
    "        'ğ': 'ğ',\n",
    "        'ö': 'ö',\n",
    "        'ü': 'ü'\n",
    "    }\n",
    "    return ''.join(replacements.get(char, char) for char in text).lower()"
   ]
  },
  {
   "cell_type": "code",
   "execution_count": 3,
   "id": "68030e88-6c00-4d99-8474-df18c7f004aa",
   "metadata": {},
   "outputs": [],
   "source": [
    "import pandas as pd\n",
    "import numpy as np\n",
    "import matplotlib.pyplot as plt"
   ]
  },
  {
   "cell_type": "code",
   "execution_count": 5,
   "id": "adcf7690-1859-4095-a2ba-bbcf9b700911",
   "metadata": {},
   "outputs": [],
   "source": [
    "train=pd.read_csv(\"data/train.csv\",low_memory=False)\n",
    "test=pd.read_csv(\"data/test_X.csv\")"
   ]
  },
  {
   "cell_type": "code",
   "execution_count": 29,
   "id": "52ca9341-aaa0-4a5c-b016-d6a7c14da09a",
   "metadata": {},
   "outputs": [],
   "source": [
    "train['Universite Adi']=train[\"Universite Adi\"].fillna(\"-\")\n",
    "train[\"Universite Adi\"]=train[\"Universite Adi\"].apply(turkish_lowercase)"
   ]
  },
  {
   "cell_type": "code",
   "execution_count": 30,
   "id": "f4f914f1-7a7e-4634-856a-09a9fdd9d78b",
   "metadata": {},
   "outputs": [
    {
     "data": {
      "text/plain": [
       "Universite Adi\n",
       "istanbul üniversitesi                  2572\n",
       "marmara üniversitesi                   2084\n",
       "istanbul teknik üniversitesi           1954\n",
       "yıldız teknik üniversitesi             1916\n",
       "orta doğu teknik üniversitesi          1658\n",
       "                                       ... \n",
       "bard college                              1\n",
       "harp akademileri (kara, deniz,            1\n",
       "brown university                          1\n",
       "avrupa meslek yüksekokulu                 1\n",
       "milli savunma üniversitesi (askerî)       1\n",
       "Name: count, Length: 295, dtype: int64"
      ]
     },
     "execution_count": 30,
     "metadata": {},
     "output_type": "execute_result"
    }
   ],
   "source": [
    "train[\"Universite Adi\"].value_counts()"
   ]
  },
  {
   "cell_type": "code",
   "execution_count": 7,
   "id": "85fb4649-7a83-42e8-a25b-eb7db51aaf54",
   "metadata": {},
   "outputs": [
    {
     "data": {
      "text/plain": [
       "Universite Adi\n",
       "İstanbul Teknik Üniversitesi                   322\n",
       "Yıldız Teknik Üniversitesi                     316\n",
       "Marmara Üniversitesi                           305\n",
       "Boğaziçi Üniversitesi                          277\n",
       "İstanbul Üniversitesi                          259\n",
       "                                              ... \n",
       "İzmir Tınaztepe Üniversitesi                     2\n",
       "İzmir Kavram Meslek Yüksekokulu                  2\n",
       "Yüksek İhtisas Üniversitesi                      2\n",
       "Milli Savunma Üniversitesi (Askerî)              1\n",
       "Ankara Müzik ve Güzel Sanatlar Üniversitesi      1\n",
       "Name: count, Length: 203, dtype: int64"
      ]
     },
     "execution_count": 7,
     "metadata": {},
     "output_type": "execute_result"
    }
   ],
   "source": [
    "test[\"Universite Adi\"].value_counts()"
   ]
  },
  {
   "cell_type": "code",
   "execution_count": 25,
   "id": "9e47b8a1-957b-4c3e-92b8-7c65db395356",
   "metadata": {},
   "outputs": [
    {
     "data": {
      "text/html": [
       "<div>\n",
       "<style scoped>\n",
       "    .dataframe tbody tr th:only-of-type {\n",
       "        vertical-align: middle;\n",
       "    }\n",
       "\n",
       "    .dataframe tbody tr th {\n",
       "        vertical-align: top;\n",
       "    }\n",
       "\n",
       "    .dataframe thead th {\n",
       "        text-align: right;\n",
       "    }\n",
       "</style>\n",
       "<table border=\"1\" class=\"dataframe\">\n",
       "  <thead>\n",
       "    <tr style=\"text-align: right;\">\n",
       "      <th></th>\n",
       "      <th>Şehir;Üniversite;Tür</th>\n",
       "    </tr>\n",
       "  </thead>\n",
       "  <tbody>\n",
       "    <tr>\n",
       "      <th>0</th>\n",
       "      <td>Adana;Adana Alparslan Türkeş Bilim ve Teknoloj...</td>\n",
       "    </tr>\n",
       "    <tr>\n",
       "      <th>1</th>\n",
       "      <td>Adana;Çukurova Üniversitesi;Devlet</td>\n",
       "    </tr>\n",
       "    <tr>\n",
       "      <th>2</th>\n",
       "      <td>Adıyaman;Adıyaman Üniversitesi;Devlet</td>\n",
       "    </tr>\n",
       "    <tr>\n",
       "      <th>3</th>\n",
       "      <td>Afyonkarahisar;Afyon Kocatepe Üniversitesi;Devlet</td>\n",
       "    </tr>\n",
       "    <tr>\n",
       "      <th>4</th>\n",
       "      <td>Afyonkarahisar;Afyonkarahisar Sağlık Bilimleri...</td>\n",
       "    </tr>\n",
       "    <tr>\n",
       "      <th>...</th>\n",
       "      <td>...</td>\n",
       "    </tr>\n",
       "    <tr>\n",
       "      <th>204</th>\n",
       "      <td>Zonguldak;Zonguldak Bülent Ecevit Üniversitesi...</td>\n",
       "    </tr>\n",
       "    <tr>\n",
       "      <th>205</th>\n",
       "      <td>İstanbul;İstanbul Sağlık ve Sosyal Bilimler Me...</td>\n",
       "    </tr>\n",
       "    <tr>\n",
       "      <th>206</th>\n",
       "      <td>İstanbul;Ataşehir Adıgüzel Meslek Yüksekokulu;...</td>\n",
       "    </tr>\n",
       "    <tr>\n",
       "      <th>207</th>\n",
       "      <td>İstanbul;İstanbul Şişli Meslek Yüksekokulu;Vakıf</td>\n",
       "    </tr>\n",
       "    <tr>\n",
       "      <th>208</th>\n",
       "      <td>İzmir;İzmir Kavram Meslek Yüksekokulu;Vakıf</td>\n",
       "    </tr>\n",
       "  </tbody>\n",
       "</table>\n",
       "<p>209 rows × 1 columns</p>\n",
       "</div>"
      ],
      "text/plain": [
       "                                  Şehir;Üniversite;Tür\n",
       "0    Adana;Adana Alparslan Türkeş Bilim ve Teknoloj...\n",
       "1                   Adana;Çukurova Üniversitesi;Devlet\n",
       "2                Adıyaman;Adıyaman Üniversitesi;Devlet\n",
       "3    Afyonkarahisar;Afyon Kocatepe Üniversitesi;Devlet\n",
       "4    Afyonkarahisar;Afyonkarahisar Sağlık Bilimleri...\n",
       "..                                                 ...\n",
       "204  Zonguldak;Zonguldak Bülent Ecevit Üniversitesi...\n",
       "205  İstanbul;İstanbul Sağlık ve Sosyal Bilimler Me...\n",
       "206  İstanbul;Ataşehir Adıgüzel Meslek Yüksekokulu;...\n",
       "207   İstanbul;İstanbul Şişli Meslek Yüksekokulu;Vakıf\n",
       "208        İzmir;İzmir Kavram Meslek Yüksekokulu;Vakıf\n",
       "\n",
       "[209 rows x 1 columns]"
      ]
     },
     "execution_count": 25,
     "metadata": {},
     "output_type": "execute_result"
    }
   ],
   "source": [
    "tr_uniler=pd.read_csv(\"data/turkiye_universiteleri.csv\")\n",
    "tr_uniler"
   ]
  },
  {
   "cell_type": "code",
   "execution_count": 21,
   "id": "7fdcaa3b-c8ee-477d-826e-1b05b4e86bdf",
   "metadata": {},
   "outputs": [
    {
     "data": {
      "text/plain": [
       "['Adana', 'Adana Alparslan Türkeş Bilim ve Teknoloji Üniversitesi', 'Devlet']"
      ]
     },
     "execution_count": 21,
     "metadata": {},
     "output_type": "execute_result"
    }
   ],
   "source": [
    "import re\n",
    "result = re.split(r'[;]',\"Adana;Adana Alparslan Türkeş Bilim ve Teknoloji Üniversitesi;Devlet\")\n",
    "result"
   ]
  },
  {
   "cell_type": "code",
   "execution_count": 26,
   "id": "ead425f6-749e-4155-a1a9-d6ee8b85a99f",
   "metadata": {},
   "outputs": [
    {
     "data": {
      "text/plain": [
       "['Adana Alparslan Türkeş Bilim ve Teknoloji Üniversitesi',\n",
       " 'Çukurova Üniversitesi',\n",
       " 'Adıyaman Üniversitesi',\n",
       " 'Afyon Kocatepe Üniversitesi',\n",
       " 'Afyonkarahisar Sağlık Bilimleri Üniversitesi',\n",
       " 'Ağrı İbrahim Çeçen Üniversitesi',\n",
       " 'Aksaray Üniversitesi',\n",
       " 'Amasya Üniversitesi',\n",
       " 'Jandarma ve Sahil Güvenlik Akademisi\\xa0(Askerî)',\n",
       " 'Ankara Üniversitesi',\n",
       " 'Ankara Müzik ve Güzel Sanatlar Üniversitesi',\n",
       " 'Ankara Hacı Bayram Veli Üniversitesi',\n",
       " 'Ankara Sosyal Bilimler Üniversitesi',\n",
       " 'Gazi Üniversitesi',\n",
       " 'Hacettepe Üniversitesi',\n",
       " 'Orta Doğu Teknik Üniversitesi',\n",
       " 'Ankara Yıldırım Beyazıt Üniversitesi',\n",
       " 'Polis Akademisi',\n",
       " 'Ankara Bilim Üniversitesi',\n",
       " 'Ankara Medipol Üniversitesi',\n",
       " 'Atılım Üniversitesi',\n",
       " 'Başkent Üniversitesi',\n",
       " 'Çankaya Üniversitesi',\n",
       " 'İhsan Doğramacı Bilkent Üniversitesi',\n",
       " 'Lokman Hekim Üniversitesi',\n",
       " 'Ostim Teknik Üniversitesi',\n",
       " 'TED Üniversitesi',\n",
       " 'TOBB Ekonomi ve Teknoloji Üniversitesi',\n",
       " 'Ufuk Üniversitesi',\n",
       " 'Türk Hava Kurumu Üniversitesi',\n",
       " 'Yüksek İhtisas Üniversitesi',\n",
       " 'Akdeniz Üniversitesi',\n",
       " 'Alanya Alaaddin Keykubat Üniversitesi',\n",
       " 'Alanya Üniversitesi',\n",
       " 'Antalya Belek Üniversitesi',\n",
       " 'Antalya Bilim Üniversitesi',\n",
       " 'Ardahan Üniversitesi',\n",
       " 'Artvin Çoruh Üniversitesi',\n",
       " 'Aydın Adnan Menderes Üniversitesi',\n",
       " 'Balıkesir Üniversitesi',\n",
       " 'Bandırma Onyedi Eylül Üniversitesi',\n",
       " 'Bartın Üniversitesi',\n",
       " 'Batman Üniversitesi',\n",
       " 'Bayburt Üniversitesi',\n",
       " 'Bilecik Şeyh Edebali Üniversitesi',\n",
       " 'Bingöl Üniversitesi',\n",
       " 'Bitlis Eren Üniversitesi',\n",
       " 'Bolu Abant İzzet Baysal Üniversitesi',\n",
       " 'Burdur Mehmet Akif Ersoy Üniversitesi',\n",
       " 'Bursa Teknik Üniversitesi',\n",
       " 'Bursa Uludağ Üniversitesi',\n",
       " 'Mudanya Üniversitesi',\n",
       " 'Çanakkale Onsekiz Mart Üniversitesi',\n",
       " 'Çankırı Karatekin Üniversitesi',\n",
       " 'Hitit Üniversitesi',\n",
       " 'Pamukkale Üniversitesi',\n",
       " 'Dicle Üniversitesi',\n",
       " 'Düzce Üniversitesi',\n",
       " 'Trakya Üniversitesi',\n",
       " 'Fırat Üniversitesi',\n",
       " 'Erzincan Binali Yıldırım Üniversitesi',\n",
       " 'Atatürk Üniversitesi',\n",
       " 'Erzurum Teknik Üniversitesi',\n",
       " 'Anadolu Üniversitesi',\n",
       " 'Eskişehir Osmangazi Üniversitesi',\n",
       " 'Eskişehir Teknik Üniversitesi',\n",
       " 'Gaziantep Üniversitesi',\n",
       " 'Gaziantep İslam Bilim ve Teknoloji Üniversitesi',\n",
       " 'Hasan Kalyoncu Üniversitesi',\n",
       " 'Sanko Üniversitesi',\n",
       " 'Giresun Üniversitesi',\n",
       " 'Gümüşhane Üniversitesi',\n",
       " 'Hakkari Üniversitesi',\n",
       " 'İskenderun Teknik Üniversitesi',\n",
       " 'Hatay Mustafa Kemal Üniversitesi',\n",
       " 'Iğdır Üniversitesi',\n",
       " 'Süleyman Demirel Üniversitesi',\n",
       " 'Isparta Uygulamalı Bilimler Üniversitesi',\n",
       " 'Boğaziçi Üniversitesi',\n",
       " 'Galatasaray Üniversitesi',\n",
       " 'İstanbul Medeniyet Üniversitesi',\n",
       " 'İstanbul Teknik Üniversitesi',\n",
       " 'İstanbul Üniversitesi',\n",
       " 'İstanbul Üniversitesi-Cerrahpaşa',\n",
       " 'Marmara Üniversitesi',\n",
       " 'Milli Savunma Üniversitesi\\xa0(Askerî)',\n",
       " 'Mimar Sinan Güzel Sanatlar Üniversitesi',\n",
       " 'Türk-Alman Üniversitesi',\n",
       " 'Türk-Japon Bilim ve Teknoloji Üniversitesi',\n",
       " 'Sağlık Bilimleri Üniversitesi',\n",
       " 'Yıldız Teknik Üniversitesi',\n",
       " 'Acıbadem Üniversitesi',\n",
       " 'Altınbaş Üniversitesi',\n",
       " 'Bahçeşehir Üniversitesi',\n",
       " 'Beykoz Üniversitesi',\n",
       " 'Bezmialem Vakıf Üniversitesi',\n",
       " 'Biruni Üniversitesi',\n",
       " 'Demiroğlu Bilim Üniversitesi',\n",
       " 'Doğuş Üniversitesi',\n",
       " 'Fatih Sultan Mehmet Üniversitesi',\n",
       " 'Fenerbahçe Üniversitesi',\n",
       " 'Haliç Üniversitesi',\n",
       " 'Işık Üniversitesi',\n",
       " 'İbn Haldun Üniversitesi',\n",
       " 'İstanbul 29 Mayıs Üniversitesi',\n",
       " 'İstanbul Arel Üniversitesi',\n",
       " 'İstanbul Atlas Üniversitesi',\n",
       " 'İstanbul Aydın Üniversitesi',\n",
       " 'İstanbul Beykent Üniversitesi',\n",
       " 'İstanbul Bilgi Üniversitesi',\n",
       " 'İstanbul Esenyurt Üniversitesi',\n",
       " 'İstanbul Galata Üniversitesi',\n",
       " 'İstanbul Gedik Üniversitesi',\n",
       " 'İstanbul Gelişim Üniversitesi',\n",
       " 'İstanbul Kent Üniversitesi',\n",
       " 'İstanbul Kültür Üniversitesi',\n",
       " 'İstanbul Medipol Üniversitesi',\n",
       " 'İstanbul Nişantaşı Üniversitesi',\n",
       " 'İstanbul Okan Üniversitesi',\n",
       " 'İstanbul Rumeli Üniversitesi',\n",
       " 'İstanbul Sabahattin Zaim Üniversitesi',\n",
       " 'İstanbul Sağlık ve Teknoloji Üniversitesi',\n",
       " 'İstanbul Ticaret Üniversitesi',\n",
       " 'İstanbul Topkapı Üniversitesi',\n",
       " 'İstanbul Yeni Yüzyıl Üniversitesi',\n",
       " 'İstinye Üniversitesi',\n",
       " 'Kadir Has Üniversitesi',\n",
       " 'Koç Üniversitesi',\n",
       " 'Maltepe Üniversitesi',\n",
       " 'MEF Üniversitesi',\n",
       " 'Özyeğin Üniversitesi',\n",
       " 'Piri Reis Üniversitesi',\n",
       " 'Sabancı Üniversitesi',\n",
       " 'Üsküdar Üniversitesi',\n",
       " 'Yeditepe Üniversitesi',\n",
       " 'Dokuz Eylül Üniversitesi',\n",
       " 'Ege Üniversitesi',\n",
       " 'İzmir Yüksek Teknoloji Enstitüsü',\n",
       " 'İzmir Kâtip Çelebi Üniversitesi',\n",
       " 'İzmir Bakırçay Üniversitesi',\n",
       " 'İzmir Demokrasi Üniversitesi',\n",
       " 'İzmir Ekonomi Üniversitesi',\n",
       " 'İzmir Tınaztepe Üniversitesi',\n",
       " 'Yaşar Üniversitesi',\n",
       " 'Kahramanmaraş Sütçü İmam Üniversitesi',\n",
       " 'Kahramanmaraş İstiklal Üniversitesi',\n",
       " 'Karabük Üniversitesi',\n",
       " 'Karamanoğlu Mehmetbey Üniversitesi',\n",
       " 'Kafkas Üniversitesi',\n",
       " 'Kastamonu Üniversitesi',\n",
       " 'Abdullah Gül Üniversitesi',\n",
       " 'Erciyes Üniversitesi',\n",
       " 'Kayseri Üniversitesi',\n",
       " 'Nuh Naci Yazgan Üniversitesi',\n",
       " 'Kırıkkale Üniversitesi',\n",
       " 'Kırklareli Üniversitesi',\n",
       " 'Kırşehir Ahi Evran Üniversitesi',\n",
       " 'Kilis 7 Aralık Üniversitesi',\n",
       " 'Gebze Teknik Üniversitesi',\n",
       " 'Kocaeli Üniversitesi',\n",
       " 'Kocaeli Sağlık ve Teknoloji Üniversitesi',\n",
       " 'Konya Teknik Üniversitesi',\n",
       " 'Necmettin Erbakan Üniversitesi',\n",
       " 'Selçuk Üniversitesi',\n",
       " 'Konya Gıda ve Tarım Üniversitesi',\n",
       " 'KTO Karatay Üniversitesi',\n",
       " 'Kütahya Dumlupınar Üniversitesi',\n",
       " 'Kütahya Sağlık Bilimleri Üniversitesi',\n",
       " 'İnönü Üniversitesi',\n",
       " 'Malatya Turgut Özal Üniversitesi',\n",
       " 'Manisa Celal Bayar Üniversitesi',\n",
       " 'Mardin Artuklu Üniversitesi',\n",
       " 'Mersin Üniversitesi',\n",
       " 'Tarsus Üniversitesi',\n",
       " 'Çağ Üniversitesi',\n",
       " 'Toros Üniversitesi',\n",
       " 'Muğla Sıtkı Koçman Üniversitesi',\n",
       " 'Muş Alparslan Üniversitesi',\n",
       " 'Nevşehir Hacı Bektaş Veli Üniversitesi',\n",
       " 'Kapadokya Üniversitesi',\n",
       " 'Niğde Ömer Halisdemir Üniversitesi',\n",
       " 'Ordu Üniversitesi',\n",
       " 'Osmaniye Korkut Ata Üniversitesi',\n",
       " 'Recep Tayyip Erdoğan Üniversitesi',\n",
       " 'Sakarya Üniversitesi',\n",
       " 'Sakarya Uygulamalı Bilimler Üniversitesi',\n",
       " 'Ondokuz Mayıs Üniversitesi',\n",
       " 'Samsun Üniversitesi',\n",
       " 'Siirt Üniversitesi',\n",
       " 'Sinop Üniversitesi',\n",
       " 'Sivas Cumhuriyet Üniversitesi',\n",
       " 'Sivas Bilim ve Teknoloji Üniversitesi',\n",
       " 'Harran Üniversitesi',\n",
       " 'Şırnak Üniversitesi',\n",
       " 'Tekirdağ Namık Kemal Üniversitesi',\n",
       " 'Tokat Gaziosmanpaşa Üniversitesi',\n",
       " 'Karadeniz Teknik Üniversitesi',\n",
       " 'Trabzon Üniversitesi',\n",
       " 'Avrasya Üniversitesi',\n",
       " 'Munzur Üniversitesi',\n",
       " 'Uşak Üniversitesi',\n",
       " 'Van Yüzüncü Yıl Üniversitesi',\n",
       " 'Yalova Üniversitesi',\n",
       " 'Yozgat Bozok Üniversitesi',\n",
       " 'Zonguldak Bülent Ecevit Üniversitesi',\n",
       " 'İstanbul Sağlık ve Sosyal Bilimler Meslek Yüksekokulu',\n",
       " 'Ataşehir Adıgüzel Meslek Yüksekokulu',\n",
       " 'İstanbul Şişli Meslek Yüksekokulu',\n",
       " 'İzmir Kavram Meslek Yüksekokulu']"
      ]
     },
     "execution_count": 26,
     "metadata": {},
     "output_type": "execute_result"
    }
   ],
   "source": [
    "tr_uniler_fixed=[]\n",
    "for i in  tr_uniler['Şehir;Üniversite;Tür']:\n",
    "    tr_uniler_fixed.append(re.split(r'[;]',i)[1])\n",
    "tr_uniler_fixed"
   ]
  },
  {
   "cell_type": "code",
   "execution_count": 37,
   "id": "42f899fa-7c38-4997-b360-1bd6d3d17b61",
   "metadata": {},
   "outputs": [
    {
     "data": {
      "text/plain": [
       "0      adana alparslan türkeş bilim ve teknoloji üniv...\n",
       "1                                  çukurova üniversitesi\n",
       "2                                  adıyaman üniversitesi\n",
       "3                            afyon kocatepe üniversitesi\n",
       "4           afyonkarahisar sağlık bilimleri üniversitesi\n",
       "                             ...                        \n",
       "204                 zonguldak bülent ecevit üniversitesi\n",
       "205    istanbul sağlık ve sosyal bilimler meslek yüks...\n",
       "206                 ataşehir adıgüzel meslek yüksekokulu\n",
       "207                    istanbul şişli meslek yüksekokulu\n",
       "208                      izmir kavram meslek yüksekokulu\n",
       "Name: 0, Length: 209, dtype: object"
      ]
     },
     "execution_count": 37,
     "metadata": {},
     "output_type": "execute_result"
    }
   ],
   "source": [
    "tr_uniler_fixed=pd.DataFrame(tr_uniler_fixed)\n",
    "tr_uniler_fixed=tr_uniler_fixed[0].apply(turkish_lowercase)\n",
    "tr_uniler_fixed"
   ]
  },
  {
   "cell_type": "code",
   "execution_count": 33,
   "id": "7ea9aa7d-eea1-4a67-bc9f-c8e1f9d2d16c",
   "metadata": {},
   "outputs": [
    {
     "data": {
      "text/plain": [
       "'a'"
      ]
     },
     "execution_count": 33,
     "metadata": {},
     "output_type": "execute_result"
    }
   ],
   "source": [
    "uni_adi=[]\n",
    "for i in tr_uniler:\n",
    "    if i in tr_uniler_fixed:\n",
    "        uni_adi.append(i)\n",
    "    else:\n",
    "        uni_adi.append()"
   ]
  },
  {
   "cell_type": "code",
   "execution_count": null,
   "id": "a30b8d0b-146c-4055-9c18-dfe851f9cfcb",
   "metadata": {},
   "outputs": [],
   "source": []
  }
 ],
 "metadata": {
  "kernelspec": {
   "display_name": "Python 3 (ipykernel)",
   "language": "python",
   "name": "python3"
  },
  "language_info": {
   "codemirror_mode": {
    "name": "ipython",
    "version": 3
   },
   "file_extension": ".py",
   "mimetype": "text/x-python",
   "name": "python",
   "nbconvert_exporter": "python",
   "pygments_lexer": "ipython3",
   "version": "3.12.4"
  }
 },
 "nbformat": 4,
 "nbformat_minor": 5
}
