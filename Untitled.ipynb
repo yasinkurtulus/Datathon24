{
 "cells": [
  {
   "cell_type": "code",
   "execution_count": 1,
   "id": "4d714b48-068b-4690-b24e-684aa4c6c5f0",
   "metadata": {},
   "outputs": [],
   "source": [
    "import pandas as pd\n",
    "import numpy as np\n"
   ]
  },
  {
   "cell_type": "code",
   "execution_count": 11,
   "id": "ce64191d-72a6-4832-89d4-b8378f6cdf55",
   "metadata": {},
   "outputs": [],
   "source": [
    "train=pd.read_csv(\"data/train.csv\",low_memory=False)\n",
    "test=pd.read_csv(\"data/test_x.csv\",low_memory=False)"
   ]
  },
  {
   "cell_type": "code",
   "execution_count": 12,
   "id": "b9ee82c8-fa35-425c-811c-bc05db606a9d",
   "metadata": {},
   "outputs": [],
   "source": [
    "import re\n",
    "def extract_numbers(text):\n",
    "        if isinstance(text, str):\n",
    "            numbers = re.findall(r'\\d+', text)\n",
    "            return int(max(numbers, key=int)) if numbers else 0\n",
    "        return 0\n",
    "train['Baska Kurumdan Aldigi Burs Miktari'] = train['Baska Kurumdan Aldigi Burs Miktari'].apply(extract_numbers)\n",
    "test['Baska Kurumdan Aldigi Burs Miktari'] = test['Baska Kurumdan Aldigi Burs Miktari'].map(extract_numbers)\n",
    "# Sınıflandırma aralıkları\n",
    "def classify_amount(amount):\n",
    "    if amount <= 100:\n",
    "        return 'Düşük'\n",
    "    elif amount <= 500:\n",
    "        return 'Orta'\n",
    "    elif amount <= 1000:\n",
    "        return 'Yüksek'\n",
    "    elif amount <= 5000:\n",
    "        return 'Çok Yüksek'\n",
    "    else:\n",
    "        return 'Aşırı Yüksek'\n",
    "train['Baska Kurumdan Aldigi Burs Miktari'] = train['Baska Kurumdan Aldigi Burs Miktari'].map(classify_amount)\n",
    "test['Baska Kurumdan Aldigi Burs Miktari'] = test['Baska Kurumdan Aldigi Burs Miktari'].map(classify_amount)"
   ]
  },
  {
   "cell_type": "code",
   "execution_count": 15,
   "id": "7b6962c9-9181-4165-ba8f-c95d94669792",
   "metadata": {},
   "outputs": [
    {
     "data": {
      "text/plain": [
       "Baska Kurumdan Aldigi Burs Miktari\n",
       "Düşük           49380\n",
       "Orta            12543\n",
       "Yüksek           3061\n",
       "Çok Yüksek        139\n",
       "Aşırı Yüksek        2\n",
       "Name: count, dtype: int64"
      ]
     },
     "execution_count": 15,
     "metadata": {},
     "output_type": "execute_result"
    }
   ],
   "source": [
    "train[\"Baska Kurumdan Aldigi Burs Miktari\"].value_counts()"
   ]
  },
  {
   "cell_type": "code",
   "execution_count": 19,
   "id": "6894d532-ee52-4132-9b8b-da8874f40dcf",
   "metadata": {},
   "outputs": [
    {
     "data": {
      "text/plain": [
       "0     Düşük\n",
       "1     Düşük\n",
       "2     Düşük\n",
       "3     Düşük\n",
       "4     Düşük\n",
       "5     Düşük\n",
       "6     Düşük\n",
       "7     Düşük\n",
       "8     Düşük\n",
       "9     Düşük\n",
       "10    Düşük\n",
       "11    Düşük\n",
       "12    Düşük\n",
       "13    Düşük\n",
       "14     Orta\n",
       "15    Düşük\n",
       "16    Düşük\n",
       "17    Düşük\n",
       "18    Düşük\n",
       "19    Düşük\n",
       "20    Düşük\n",
       "21    Düşük\n",
       "22    Düşük\n",
       "23    Düşük\n",
       "24    Düşük\n",
       "25     Orta\n",
       "26    Düşük\n",
       "27    Düşük\n",
       "28    Düşük\n",
       "29    Düşük\n",
       "30    Düşük\n",
       "31    Düşük\n",
       "32     Orta\n",
       "33    Düşük\n",
       "34     Orta\n",
       "35     Orta\n",
       "36     Orta\n",
       "37     Orta\n",
       "38    Düşük\n",
       "39    Düşük\n",
       "Name: Baska Kurumdan Aldigi Burs Miktari, dtype: object"
      ]
     },
     "execution_count": 19,
     "metadata": {},
     "output_type": "execute_result"
    }
   ],
   "source": [
    "train[\"Baska Kurumdan Aldigi Burs Miktari\"][:40]"
   ]
  },
  {
   "cell_type": "code",
   "execution_count": 16,
   "id": "bbfb2d88-938f-4a54-877d-04c3508cd5f0",
   "metadata": {},
   "outputs": [
    {
     "data": {
      "text/plain": [
       "Baska Kurumdan Aldigi Burs Miktari\n",
       "Düşük     6546\n",
       "Yüksek    4358\n",
       "Orta       145\n",
       "Name: count, dtype: int64"
      ]
     },
     "execution_count": 16,
     "metadata": {},
     "output_type": "execute_result"
    }
   ],
   "source": [
    "test[\"Baska Kurumdan Aldigi Burs Miktari\"].value_counts()"
   ]
  },
  {
   "cell_type": "code",
   "execution_count": 17,
   "id": "15f6c614-bf64-4cca-ab7a-4347827a9ea4",
   "metadata": {},
   "outputs": [
    {
     "data": {
      "text/plain": [
       "0      Düşük\n",
       "1      Düşük\n",
       "2     Yüksek\n",
       "3      Düşük\n",
       "4     Yüksek\n",
       "5      Düşük\n",
       "6      Düşük\n",
       "7      Düşük\n",
       "8      Düşük\n",
       "9     Yüksek\n",
       "10     Düşük\n",
       "11     Düşük\n",
       "12     Düşük\n",
       "13    Yüksek\n",
       "14     Düşük\n",
       "15     Düşük\n",
       "16     Düşük\n",
       "17    Yüksek\n",
       "18    Yüksek\n",
       "19     Düşük\n",
       "Name: Baska Kurumdan Aldigi Burs Miktari, dtype: object"
      ]
     },
     "execution_count": 17,
     "metadata": {},
     "output_type": "execute_result"
    }
   ],
   "source": [
    "test[\"Baska Kurumdan Aldigi Burs Miktari\"][:20]"
   ]
  },
  {
   "cell_type": "code",
   "execution_count": null,
   "id": "394a5f53-52ed-45b9-abc3-dbd400fc157c",
   "metadata": {},
   "outputs": [],
   "source": []
  }
 ],
 "metadata": {
  "kernelspec": {
   "display_name": "Python 3 (ipykernel)",
   "language": "python",
   "name": "python3"
  },
  "language_info": {
   "codemirror_mode": {
    "name": "ipython",
    "version": 3
   },
   "file_extension": ".py",
   "mimetype": "text/x-python",
   "name": "python",
   "nbconvert_exporter": "python",
   "pygments_lexer": "ipython3",
   "version": "3.12.4"
  }
 },
 "nbformat": 4,
 "nbformat_minor": 5
}
